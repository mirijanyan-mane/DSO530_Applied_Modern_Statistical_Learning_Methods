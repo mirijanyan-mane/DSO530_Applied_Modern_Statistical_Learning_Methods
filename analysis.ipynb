{
  "cells": [
    {
      "cell_type": "markdown",
      "metadata": {
        "id": "Rfit8e2Fw8GM"
      },
      "source": [
        "## Loading data"
      ]
    },
    {
      "cell_type": "code",
      "execution_count": null,
      "metadata": {
        "colab": {
          "base_uri": "https://localhost:8080/"
        },
        "id": "lL7Uxmag7XHB",
        "outputId": "a9af5a57-abdd-48c0-e9cf-9d0fd3c21a0d"
      },
      "outputs": [
        {
          "output_type": "stream",
          "name": "stdout",
          "text": [
            "Requirement already satisfied: mlxtend in /usr/local/lib/python3.7/dist-packages (0.14.0)\n",
            "Requirement already satisfied: setuptools in /usr/local/lib/python3.7/dist-packages (from mlxtend) (57.4.0)\n",
            "Requirement already satisfied: pandas>=0.17.1 in /usr/local/lib/python3.7/dist-packages (from mlxtend) (1.3.5)\n",
            "Requirement already satisfied: scikit-learn>=0.18 in /usr/local/lib/python3.7/dist-packages (from mlxtend) (1.0.2)\n",
            "Requirement already satisfied: matplotlib>=1.5.1 in /usr/local/lib/python3.7/dist-packages (from mlxtend) (3.2.2)\n",
            "Requirement already satisfied: numpy>=1.10.4 in /usr/local/lib/python3.7/dist-packages (from mlxtend) (1.21.6)\n",
            "Requirement already satisfied: scipy>=0.17 in /usr/local/lib/python3.7/dist-packages (from mlxtend) (1.4.1)\n",
            "Requirement already satisfied: python-dateutil>=2.1 in /usr/local/lib/python3.7/dist-packages (from matplotlib>=1.5.1->mlxtend) (2.8.2)\n",
            "Requirement already satisfied: cycler>=0.10 in /usr/local/lib/python3.7/dist-packages (from matplotlib>=1.5.1->mlxtend) (0.11.0)\n",
            "Requirement already satisfied: kiwisolver>=1.0.1 in /usr/local/lib/python3.7/dist-packages (from matplotlib>=1.5.1->mlxtend) (1.4.2)\n",
            "Requirement already satisfied: pyparsing!=2.0.4,!=2.1.2,!=2.1.6,>=2.0.1 in /usr/local/lib/python3.7/dist-packages (from matplotlib>=1.5.1->mlxtend) (3.0.8)\n",
            "Requirement already satisfied: typing-extensions in /usr/local/lib/python3.7/dist-packages (from kiwisolver>=1.0.1->matplotlib>=1.5.1->mlxtend) (4.2.0)\n",
            "Requirement already satisfied: pytz>=2017.3 in /usr/local/lib/python3.7/dist-packages (from pandas>=0.17.1->mlxtend) (2022.1)\n",
            "Requirement already satisfied: six>=1.5 in /usr/local/lib/python3.7/dist-packages (from python-dateutil>=2.1->matplotlib>=1.5.1->mlxtend) (1.15.0)\n",
            "Requirement already satisfied: threadpoolctl>=2.0.0 in /usr/local/lib/python3.7/dist-packages (from scikit-learn>=0.18->mlxtend) (3.1.0)\n",
            "Requirement already satisfied: joblib>=0.11 in /usr/local/lib/python3.7/dist-packages (from scikit-learn>=0.18->mlxtend) (1.1.0)\n",
            "Requirement already satisfied: rfpimp in /usr/local/lib/python3.7/dist-packages (1.3.7)\n",
            "Requirement already satisfied: scikit-learn in /usr/local/lib/python3.7/dist-packages (from rfpimp) (1.0.2)\n",
            "Requirement already satisfied: pandas in /usr/local/lib/python3.7/dist-packages (from rfpimp) (1.3.5)\n",
            "Requirement already satisfied: matplotlib in /usr/local/lib/python3.7/dist-packages (from rfpimp) (3.2.2)\n",
            "Requirement already satisfied: numpy in /usr/local/lib/python3.7/dist-packages (from rfpimp) (1.21.6)\n",
            "Requirement already satisfied: python-dateutil>=2.1 in /usr/local/lib/python3.7/dist-packages (from matplotlib->rfpimp) (2.8.2)\n",
            "Requirement already satisfied: kiwisolver>=1.0.1 in /usr/local/lib/python3.7/dist-packages (from matplotlib->rfpimp) (1.4.2)\n",
            "Requirement already satisfied: pyparsing!=2.0.4,!=2.1.2,!=2.1.6,>=2.0.1 in /usr/local/lib/python3.7/dist-packages (from matplotlib->rfpimp) (3.0.8)\n",
            "Requirement already satisfied: cycler>=0.10 in /usr/local/lib/python3.7/dist-packages (from matplotlib->rfpimp) (0.11.0)\n",
            "Requirement already satisfied: typing-extensions in /usr/local/lib/python3.7/dist-packages (from kiwisolver>=1.0.1->matplotlib->rfpimp) (4.2.0)\n",
            "Requirement already satisfied: six>=1.5 in /usr/local/lib/python3.7/dist-packages (from python-dateutil>=2.1->matplotlib->rfpimp) (1.15.0)\n",
            "Requirement already satisfied: pytz>=2017.3 in /usr/local/lib/python3.7/dist-packages (from pandas->rfpimp) (2022.1)\n",
            "Requirement already satisfied: joblib>=0.11 in /usr/local/lib/python3.7/dist-packages (from scikit-learn->rfpimp) (1.1.0)\n",
            "Requirement already satisfied: scipy>=1.1.0 in /usr/local/lib/python3.7/dist-packages (from scikit-learn->rfpimp) (1.4.1)\n",
            "Requirement already satisfied: threadpoolctl>=2.0.0 in /usr/local/lib/python3.7/dist-packages (from scikit-learn->rfpimp) (3.1.0)\n"
          ]
        }
      ],
      "source": [
        "!pip install mlxtend\n",
        "!pip install rfpimp"
      ]
    },
    {
      "cell_type": "code",
      "execution_count": null,
      "metadata": {
        "id": "VeYzv-QeDU5Y"
      },
      "outputs": [],
      "source": [
        "import joblib\n",
        "import sys\n",
        "sys.modules['sklearn.externals.joblib'] = joblib\n",
        "from mlxtend.feature_selection import SequentialFeatureSelector as sfs"
      ]
    },
    {
      "cell_type": "code",
      "execution_count": null,
      "metadata": {
        "id": "SoRw4SrL7PrA"
      },
      "outputs": [],
      "source": [
        "# Importing Libraries\n",
        "import numpy as np\n",
        "import pandas as pd\n",
        "import matplotlib.pyplot as plt\n",
        "from matplotlib.ticker import StrMethodFormatter\n",
        "import seaborn as sns\n",
        "import math\n",
        "from sklearn.model_selection import train_test_split\n",
        "from sklearn.linear_model import LinearRegression\n",
        "import statsmodels.formula.api as sm\n",
        "from sklearn.model_selection import KFold\n",
        "from sklearn.model_selection import cross_val_score\n",
        "from sklearn.linear_model import LinearRegression\n",
        "from sklearn.linear_model import LogisticRegression\n",
        "from sklearn.svm import SVC\n",
        "from sklearn.neighbors import KNeighborsClassifier\n",
        "from sklearn.ensemble import RandomForestClassifier\n",
        "from sklearn.preprocessing import StandardScaler\n",
        "from sklearn.preprocessing import MinMaxScaler\n",
        "from sklearn.model_selection import RandomizedSearchCV\n",
        "from sklearn import metrics\n",
        "from sklearn.metrics import roc_curve, roc_auc_score\n",
        "from sklearn.metrics import auc\n",
        "from sklearn.metrics import accuracy_score\n",
        "from numpy import sqrt\n",
        "from numpy import argmax\n",
        "from sklearn.metrics import classification_report, confusion_matrix  \n",
        "import warnings\n",
        "warnings.filterwarnings('ignore')\n",
        "from rfpimp import *\n",
        "import random\n",
        "from sklearn.naive_bayes import GaussianNB\n",
        "from sklearn.linear_model import RidgeCV\n",
        "from sklearn.linear_model import LassoCV\n",
        "from sklearn.ensemble import RandomForestRegressor\n",
        "random.seed(1234)"
      ]
    },
    {
      "cell_type": "code",
      "execution_count": null,
      "metadata": {
        "id": "7WZ0s0wGvtuQ"
      },
      "outputs": [],
      "source": [
        "import os\n",
        "from google.colab import drive"
      ]
    },
    {
      "cell_type": "code",
      "execution_count": null,
      "metadata": {
        "id": "zMiBxaBDv0BT",
        "colab": {
          "base_uri": "https://localhost:8080/"
        },
        "outputId": "4a03f917-d1ef-4fdf-bef1-ee479e5718b8"
      },
      "outputs": [
        {
          "output_type": "stream",
          "name": "stdout",
          "text": [
            "Drive already mounted at /content/drive; to attempt to forcibly remount, call drive.mount(\"/content/drive\", force_remount=True).\n"
          ]
        }
      ],
      "source": [
        "drive.mount('/content/drive')"
      ]
    },
    {
      "cell_type": "code",
      "execution_count": null,
      "metadata": {
        "id": "JMZwhVj-v-xC"
      },
      "outputs": [],
      "source": [
        "os.chdir(\"/content/drive/Shareddrives/DSO 530 Project\")"
      ]
    },
    {
      "cell_type": "code",
      "execution_count": null,
      "metadata": {
        "id": "RFe4CXpp7Hi3"
      },
      "outputs": [],
      "source": [
        "data_primary = pd.read_csv(\"./option_train.csv\")"
      ]
    },
    {
      "cell_type": "code",
      "execution_count": null,
      "metadata": {
        "id": "qbJ8jG7P7pb7"
      },
      "outputs": [],
      "source": [
        "data_primary"
      ]
    },
    {
      "cell_type": "markdown",
      "metadata": {
        "id": "Eiou6xte8VdE"
      },
      "source": [
        "* Value (C):\tCurrent\toption\tvalue\n",
        "* S:\tCurrent\tasset\tvalue\n",
        "* K:\tStrike\tprice\tof\toption\n",
        "* r:\tAnnual\tinterest\trate\n",
        "* tau:\tTime\tto\tmaturity\t(in\tyears)\n",
        "* BS:\tThe\tBlack-Scholes\t formula\twas applied\tto\tthis\tdata\t(using some �) to\tget\tC_pred. and\tIf\tan\toption has\tC_pred\t– C\t>\t0,\ti.e.,\tthe\tprediction over\testimated\tthe\toption\tvalue, we\tassociate\tthat\toption by (Over);\totherwise, we\tassociate\tthat\toption with\t(Under)."
      ]
    },
    {
      "cell_type": "markdown",
      "metadata": {
        "id": "4ZLREXEd8pV6"
      },
      "source": [
        "# Missing data"
      ]
    },
    {
      "cell_type": "code",
      "execution_count": null,
      "metadata": {
        "colab": {
          "base_uri": "https://localhost:8080/"
        },
        "id": "272Un4vt8Rom",
        "outputId": "37345649-c9ef-49d3-963f-b263fed8a419"
      },
      "outputs": [
        {
          "output_type": "execute_result",
          "data": {
            "text/plain": [
              "             Value            S            K          tau            r\n",
              "count  1679.000000  1679.000000  1678.000000  1679.000000  1680.000000\n",
              "mean     15.072013   440.639445   438.241955     0.437519     0.030235\n",
              "std      14.036492    13.130436    23.408989     7.057555     0.000557\n",
              "min       0.125000     0.000000   375.000000     0.003968     0.029510\n",
              "25%       2.255002   433.863864   420.000000     0.119048     0.029820\n",
              "50%      11.220588   442.525366   440.000000     0.202381     0.030130\n",
              "75%      25.745904   447.320414   455.000000     0.285714     0.030540\n",
              "max      60.149367   455.880619   500.000000   250.000000     0.031880"
            ],
            "text/html": [
              "\n",
              "  <div id=\"df-d85d5c44-24b9-43c4-99c3-f312f54e1d24\">\n",
              "    <div class=\"colab-df-container\">\n",
              "      <div>\n",
              "<style scoped>\n",
              "    .dataframe tbody tr th:only-of-type {\n",
              "        vertical-align: middle;\n",
              "    }\n",
              "\n",
              "    .dataframe tbody tr th {\n",
              "        vertical-align: top;\n",
              "    }\n",
              "\n",
              "    .dataframe thead th {\n",
              "        text-align: right;\n",
              "    }\n",
              "</style>\n",
              "<table border=\"1\" class=\"dataframe\">\n",
              "  <thead>\n",
              "    <tr style=\"text-align: right;\">\n",
              "      <th></th>\n",
              "      <th>Value</th>\n",
              "      <th>S</th>\n",
              "      <th>K</th>\n",
              "      <th>tau</th>\n",
              "      <th>r</th>\n",
              "    </tr>\n",
              "  </thead>\n",
              "  <tbody>\n",
              "    <tr>\n",
              "      <th>count</th>\n",
              "      <td>1679.000000</td>\n",
              "      <td>1679.000000</td>\n",
              "      <td>1678.000000</td>\n",
              "      <td>1679.000000</td>\n",
              "      <td>1680.000000</td>\n",
              "    </tr>\n",
              "    <tr>\n",
              "      <th>mean</th>\n",
              "      <td>15.072013</td>\n",
              "      <td>440.639445</td>\n",
              "      <td>438.241955</td>\n",
              "      <td>0.437519</td>\n",
              "      <td>0.030235</td>\n",
              "    </tr>\n",
              "    <tr>\n",
              "      <th>std</th>\n",
              "      <td>14.036492</td>\n",
              "      <td>13.130436</td>\n",
              "      <td>23.408989</td>\n",
              "      <td>7.057555</td>\n",
              "      <td>0.000557</td>\n",
              "    </tr>\n",
              "    <tr>\n",
              "      <th>min</th>\n",
              "      <td>0.125000</td>\n",
              "      <td>0.000000</td>\n",
              "      <td>375.000000</td>\n",
              "      <td>0.003968</td>\n",
              "      <td>0.029510</td>\n",
              "    </tr>\n",
              "    <tr>\n",
              "      <th>25%</th>\n",
              "      <td>2.255002</td>\n",
              "      <td>433.863864</td>\n",
              "      <td>420.000000</td>\n",
              "      <td>0.119048</td>\n",
              "      <td>0.029820</td>\n",
              "    </tr>\n",
              "    <tr>\n",
              "      <th>50%</th>\n",
              "      <td>11.220588</td>\n",
              "      <td>442.525366</td>\n",
              "      <td>440.000000</td>\n",
              "      <td>0.202381</td>\n",
              "      <td>0.030130</td>\n",
              "    </tr>\n",
              "    <tr>\n",
              "      <th>75%</th>\n",
              "      <td>25.745904</td>\n",
              "      <td>447.320414</td>\n",
              "      <td>455.000000</td>\n",
              "      <td>0.285714</td>\n",
              "      <td>0.030540</td>\n",
              "    </tr>\n",
              "    <tr>\n",
              "      <th>max</th>\n",
              "      <td>60.149367</td>\n",
              "      <td>455.880619</td>\n",
              "      <td>500.000000</td>\n",
              "      <td>250.000000</td>\n",
              "      <td>0.031880</td>\n",
              "    </tr>\n",
              "  </tbody>\n",
              "</table>\n",
              "</div>\n",
              "      <button class=\"colab-df-convert\" onclick=\"convertToInteractive('df-d85d5c44-24b9-43c4-99c3-f312f54e1d24')\"\n",
              "              title=\"Convert this dataframe to an interactive table.\"\n",
              "              style=\"display:none;\">\n",
              "        \n",
              "  <svg xmlns=\"http://www.w3.org/2000/svg\" height=\"24px\"viewBox=\"0 0 24 24\"\n",
              "       width=\"24px\">\n",
              "    <path d=\"M0 0h24v24H0V0z\" fill=\"none\"/>\n",
              "    <path d=\"M18.56 5.44l.94 2.06.94-2.06 2.06-.94-2.06-.94-.94-2.06-.94 2.06-2.06.94zm-11 1L8.5 8.5l.94-2.06 2.06-.94-2.06-.94L8.5 2.5l-.94 2.06-2.06.94zm10 10l.94 2.06.94-2.06 2.06-.94-2.06-.94-.94-2.06-.94 2.06-2.06.94z\"/><path d=\"M17.41 7.96l-1.37-1.37c-.4-.4-.92-.59-1.43-.59-.52 0-1.04.2-1.43.59L10.3 9.45l-7.72 7.72c-.78.78-.78 2.05 0 2.83L4 21.41c.39.39.9.59 1.41.59.51 0 1.02-.2 1.41-.59l7.78-7.78 2.81-2.81c.8-.78.8-2.07 0-2.86zM5.41 20L4 18.59l7.72-7.72 1.47 1.35L5.41 20z\"/>\n",
              "  </svg>\n",
              "      </button>\n",
              "      \n",
              "  <style>\n",
              "    .colab-df-container {\n",
              "      display:flex;\n",
              "      flex-wrap:wrap;\n",
              "      gap: 12px;\n",
              "    }\n",
              "\n",
              "    .colab-df-convert {\n",
              "      background-color: #E8F0FE;\n",
              "      border: none;\n",
              "      border-radius: 50%;\n",
              "      cursor: pointer;\n",
              "      display: none;\n",
              "      fill: #1967D2;\n",
              "      height: 32px;\n",
              "      padding: 0 0 0 0;\n",
              "      width: 32px;\n",
              "    }\n",
              "\n",
              "    .colab-df-convert:hover {\n",
              "      background-color: #E2EBFA;\n",
              "      box-shadow: 0px 1px 2px rgba(60, 64, 67, 0.3), 0px 1px 3px 1px rgba(60, 64, 67, 0.15);\n",
              "      fill: #174EA6;\n",
              "    }\n",
              "\n",
              "    [theme=dark] .colab-df-convert {\n",
              "      background-color: #3B4455;\n",
              "      fill: #D2E3FC;\n",
              "    }\n",
              "\n",
              "    [theme=dark] .colab-df-convert:hover {\n",
              "      background-color: #434B5C;\n",
              "      box-shadow: 0px 1px 3px 1px rgba(0, 0, 0, 0.15);\n",
              "      filter: drop-shadow(0px 1px 2px rgba(0, 0, 0, 0.3));\n",
              "      fill: #FFFFFF;\n",
              "    }\n",
              "  </style>\n",
              "\n",
              "      <script>\n",
              "        const buttonEl =\n",
              "          document.querySelector('#df-d85d5c44-24b9-43c4-99c3-f312f54e1d24 button.colab-df-convert');\n",
              "        buttonEl.style.display =\n",
              "          google.colab.kernel.accessAllowed ? 'block' : 'none';\n",
              "\n",
              "        async function convertToInteractive(key) {\n",
              "          const element = document.querySelector('#df-d85d5c44-24b9-43c4-99c3-f312f54e1d24');\n",
              "          const dataTable =\n",
              "            await google.colab.kernel.invokeFunction('convertToInteractive',\n",
              "                                                     [key], {});\n",
              "          if (!dataTable) return;\n",
              "\n",
              "          const docLinkHtml = 'Like what you see? Visit the ' +\n",
              "            '<a target=\"_blank\" href=https://colab.research.google.com/notebooks/data_table.ipynb>data table notebook</a>'\n",
              "            + ' to learn more about interactive tables.';\n",
              "          element.innerHTML = '';\n",
              "          dataTable['output_type'] = 'display_data';\n",
              "          await google.colab.output.renderOutput(dataTable, element);\n",
              "          const docLink = document.createElement('div');\n",
              "          docLink.innerHTML = docLinkHtml;\n",
              "          element.appendChild(docLink);\n",
              "        }\n",
              "      </script>\n",
              "    </div>\n",
              "  </div>\n",
              "  "
            ]
          },
          "metadata": {},
          "execution_count": 20
        }
      ],
      "source": [
        "data_primary.describe()"
      ]
    },
    {
      "cell_type": "markdown",
      "metadata": {
        "id": "qllzT-0z9Lrw"
      },
      "source": [
        "## Null Values"
      ]
    },
    {
      "cell_type": "code",
      "execution_count": null,
      "metadata": {
        "id": "vmGyta0E9K5z",
        "colab": {
          "base_uri": "https://localhost:8080/"
        },
        "outputId": "bd6f5535-501b-4baf-eac8-93e704d67fd3"
      },
      "outputs": [
        {
          "output_type": "execute_result",
          "data": {
            "text/plain": [
              "Value    1\n",
              "S        1\n",
              "K        2\n",
              "tau      1\n",
              "r        0\n",
              "BS       0\n",
              "dtype: int64"
            ]
          },
          "metadata": {},
          "execution_count": 21
        }
      ],
      "source": [
        "data_primary.isnull().sum()"
      ]
    },
    {
      "cell_type": "code",
      "execution_count": null,
      "metadata": {
        "id": "7jOGXXZS9R8q"
      },
      "outputs": [],
      "source": [
        "#Drop all records with atleast one NULL value\n",
        "data_primary.dropna(inplace=True)"
      ]
    },
    {
      "cell_type": "code",
      "execution_count": null,
      "metadata": {
        "id": "-3swYEiH_CuE",
        "colab": {
          "base_uri": "https://localhost:8080/"
        },
        "outputId": "29ac2fef-613f-4d9a-db16-159fb97ab11f"
      },
      "outputs": [
        {
          "output_type": "execute_result",
          "data": {
            "text/plain": [
              "(1678, 6)"
            ]
          },
          "metadata": {},
          "execution_count": 23
        }
      ],
      "source": [
        "data_primary.shape"
      ]
    },
    {
      "cell_type": "markdown",
      "metadata": {
        "id": "ngVdqNJI9U0n"
      },
      "source": [
        "## Outliers"
      ]
    },
    {
      "cell_type": "code",
      "execution_count": null,
      "metadata": {
        "id": "VrEv8ja29ZUI",
        "colab": {
          "base_uri": "https://localhost:8080/"
        },
        "outputId": "7f6db02a-b255-488a-fb95-26433cf8dd99"
      },
      "outputs": [
        {
          "output_type": "display_data",
          "data": {
            "text/plain": [
              "<Figure size 540x252 with 1 Axes>"
            ],
            "image/png": "[encoded data removed]"
          },
          "metadata": {}
        }
      ],
      "source": [
        "plt.rcParams[\"figure.figsize\"] = [7.50, 3.50]\n",
        "plt.rcParams[\"figure.autolayout\"] = True\n",
        "sns.set_style(\"whitegrid\")\n",
        "\n",
        "ax = sns.boxplot(x=\"BS\", y=\"tau\", data=data_primary)\n",
        "plt.ylim(-5, 280)\n",
        "plt.show()"
      ]
    },
    {
      "cell_type": "code",
      "execution_count": null,
      "metadata": {
        "id": "ELBosVef_118",
        "colab": {
          "base_uri": "https://localhost:8080/"
        },
        "outputId": "3db00759-e864-46a8-aa60-dec3fc62ff08"
      },
      "outputs": [
        {
          "output_type": "display_data",
          "data": {
            "text/plain": [
              "<Figure size 540x252 with 1 Axes>"
            ],
            "image/png": "[encoded data removed]"
          },
          "metadata": {}
        }
      ],
      "source": [
        "#S Distribution to detect outliers\n",
        "\n",
        "plt.rcParams[\"figure.figsize\"] = [7.50, 3.50]\n",
        "plt.rcParams[\"figure.autolayout\"] = True\n",
        "sns.set_style(\"whitegrid\")\n",
        "\n",
        "\n",
        "ax = sns.boxplot(x=\"BS\", y=\"S\", data=data_primary)\n",
        "plt.show()"
      ]
    },
    {
      "cell_type": "code",
      "execution_count": null,
      "metadata": {
        "id": "Nq6ExjoY-XKN",
        "colab": {
          "base_uri": "https://localhost:8080/"
        },
        "outputId": "e8666611-9870-4ca9-fb64-60ce090e7054"
      },
      "outputs": [
        {
          "output_type": "display_data",
          "data": {
            "text/plain": [
              "<Figure size 540x252 with 1 Axes>"
            ],
            "image/png": "[encoded data removed]"
          },
          "metadata": {}
        }
      ],
      "source": [
        "#K Distribution to detect outliers\n",
        "\n",
        "plt.rcParams[\"figure.figsize\"] = [7.50, 3.50]\n",
        "plt.rcParams[\"figure.autolayout\"] = True\n",
        "sns.set_style(\"whitegrid\")\n",
        "\n",
        "\n",
        "ax = sns.boxplot(x=\"BS\", y=\"K\", data=data_primary)\n",
        "plt.show()\n"
      ]
    },
    {
      "cell_type": "code",
      "execution_count": null,
      "metadata": {
        "id": "Ne3LzaoS-i5x",
        "colab": {
          "base_uri": "https://localhost:8080/"
        },
        "outputId": "954f9177-0370-4b2a-d6b9-63f3483cd31d"
      },
      "outputs": [
        {
          "output_type": "display_data",
          "data": {
            "text/plain": [
              "<Figure size 540x252 with 1 Axes>"
            ],
            "image/png": "[encoded data removed]"
          },
          "metadata": {}
        }
      ],
      "source": [
        "#r Distribution to detect outliers\n",
        "\n",
        "plt.rcParams[\"figure.figsize\"] = [7.50, 3.50]\n",
        "plt.rcParams[\"figure.autolayout\"] = True\n",
        "sns.set_style(\"whitegrid\")\n",
        "\n",
        "\n",
        "ax = sns.boxplot(x=\"BS\", y=\"r\", data=data_primary)\n",
        "plt.show()"
      ]
    },
    {
      "cell_type": "code",
      "execution_count": null,
      "metadata": {
        "id": "OQX1i2nv-mdC"
      },
      "outputs": [],
      "source": [
        "# removing records with Tau and S outlier values\n",
        "data_primary = data_primary[data_primary.S > 0]\n",
        "data_primary = data_primary[data_primary.tau < 50]"
      ]
    },
    {
      "cell_type": "code",
      "execution_count": null,
      "metadata": {
        "id": "y8XcNx6N-2qZ",
        "colab": {
          "base_uri": "https://localhost:8080/"
        },
        "outputId": "ff5541d7-6395-485c-ab3f-7b1ef4e85b43"
      },
      "outputs": [
        {
          "output_type": "execute_result",
          "data": {
            "text/plain": [
              "(1675, 6)"
            ]
          },
          "metadata": {},
          "execution_count": 29
        }
      ],
      "source": [
        "data_primary.shape"
      ]
    },
    {
      "cell_type": "markdown",
      "metadata": {
        "id": "fstYoMSb-5Ol"
      },
      "source": [
        "# EDA"
      ]
    },
    {
      "cell_type": "code",
      "execution_count": null,
      "metadata": {
        "colab": {
          "base_uri": "https://localhost:8080/"
        },
        "id": "JDXikxB--8JB",
        "outputId": "990fac58-db7d-4880-e5de-df9f6872c8c0"
      },
      "outputs": [
        {
          "output_type": "execute_result",
          "data": {
            "text/plain": [
              "array([[<matplotlib.axes._subplots.AxesSubplot object at 0x7f45b1c2ad50>]],\n",
              "      dtype=object)"
            ]
          },
          "metadata": {},
          "execution_count": 30
        },
        {
          "output_type": "display_data",
          "data": {
            "text/plain": [
              "<Figure size 540x252 with 1 Axes>"
            ],
            "image/png": "[encoded data removed]"
          },
          "metadata": {}
        }
      ],
      "source": [
        "data_primary.hist(\"tau\")"
      ]
    },
    {
      "cell_type": "code",
      "execution_count": null,
      "metadata": {
        "colab": {
          "base_uri": "https://localhost:8080/"
        },
        "id": "O9J7KXBt_EBw",
        "outputId": "10593c84-0cf3-4644-fae8-c625151fd8a5"
      },
      "outputs": [
        {
          "output_type": "execute_result",
          "data": {
            "text/plain": [
              "array([[<matplotlib.axes._subplots.AxesSubplot object at 0x7f45b1b49b90>]],\n",
              "      dtype=object)"
            ]
          },
          "metadata": {},
          "execution_count": 31
        },
        {
          "output_type": "display_data",
          "data": {
            "text/plain": [
              "<Figure size 540x252 with 1 Axes>"
            ],
            "image/png": "[encoded data removed]"
          },
          "metadata": {}
        }
      ],
      "source": [
        "data_primary.hist(\"K\")"
      ]
    },
    {
      "cell_type": "code",
      "execution_count": null,
      "metadata": {
        "colab": {
          "base_uri": "https://localhost:8080/"
        },
        "id": "2wIvo0V6_Tb9",
        "outputId": "3e9bdbad-794b-44b3-84a3-2073b5dada13"
      },
      "outputs": [
        {
          "output_type": "execute_result",
          "data": {
            "text/plain": [
              "array([[<matplotlib.axes._subplots.AxesSubplot object at 0x7f45b1b237d0>]],\n",
              "      dtype=object)"
            ]
          },
          "metadata": {},
          "execution_count": 32
        },
        {
          "output_type": "display_data",
          "data": {
            "text/plain": [
              "<Figure size 540x252 with 1 Axes>"
            ],
            "image/png": "[encoded data removed]"
          },
          "metadata": {}
        }
      ],
      "source": [
        "data_primary.hist(\"r\")"
      ]
    },
    {
      "cell_type": "code",
      "execution_count": null,
      "metadata": {
        "colab": {
          "base_uri": "https://localhost:8080/"
        },
        "id": "H95ZmE4s_bgd",
        "outputId": "660d7dd3-b8ad-41e4-f854-5f2990a0514c"
      },
      "outputs": [
        {
          "output_type": "execute_result",
          "data": {
            "text/plain": [
              "array([[<matplotlib.axes._subplots.AxesSubplot object at 0x7f45b1a5ea10>]],\n",
              "      dtype=object)"
            ]
          },
          "metadata": {},
          "execution_count": 33
        },
        {
          "output_type": "display_data",
          "data": {
            "text/plain": [
              "<Figure size 540x252 with 1 Axes>"
            ],
            "image/png": "[encoded data removed]"
          },
          "metadata": {}
        }
      ],
      "source": [
        "data_primary.hist(\"S\")"
      ]
    },
    {
      "cell_type": "markdown",
      "metadata": {
        "id": "1GOUsb30_his"
      },
      "source": [
        "# Feature Engineering"
      ]
    },
    {
      "cell_type": "code",
      "execution_count": null,
      "metadata": {
        "id": "rU87WHVl_v5J"
      },
      "outputs": [],
      "source": [
        "data_primary[\"BS_flag\"] = [0 if i == \"Under\" else 1 for i in data_primary.BS]"
      ]
    },
    {
      "cell_type": "code",
      "execution_count": null,
      "metadata": {
        "id": "mZ_jBy7H_2be"
      },
      "outputs": [],
      "source": [
        "# Domain Knowledge Expertise\n",
        "data_primary[\"S/K\"] = data_primary.S/data_primary.K #Currentassetvalue/Strikepriceofoption\n",
        "data_primary[\"S-K_abs\"] = abs(data_primary.S - data_primary.K) # abs(Currentassetvalue - Strikepriceofoption)\n",
        "data_primary[\"tau_underroot\"] = [math.sqrt(i) for i in data_primary.tau] #sqrt of Timetomaturity\n",
        "data_primary[\"tau_power2\"] = pow(data_primary.tau,2) # Timetomaturity in power 2\n",
        "data_primary[\"tau_power4\"] = pow(data_primary.tau,4) # Timetomaturity in power 4\n",
        "data_primary[\"1+r\"] = 1 + data_primary.r # 1 + Annualinterestrate"
      ]
    },
    {
      "cell_type": "code",
      "execution_count": null,
      "metadata": {
        "id": "4NMC_kGNBI39"
      },
      "outputs": [],
      "source": [
        "for col_name in ['Value', 'S', 'K', 'tau', 'r', 'BS_flag', 'S/K', 'S-K_abs','tau_underroot', 'tau_power2', 'tau_power4', '1+r']:\n",
        "    data_primary[col_name] = pd.to_numeric(data_primary[col_name])"
      ]
    },
    {
      "cell_type": "code",
      "execution_count": null,
      "metadata": {
        "colab": {
          "base_uri": "https://localhost:8080/"
        },
        "id": "qTeE7T7lBkXi",
        "outputId": "18d15b5b-d86d-4fbd-96c2-d04af4a08729"
      },
      "outputs": [
        {
          "output_type": "execute_result",
          "data": {
            "text/plain": [
              "Index(['Value', 'S', 'K', 'tau', 'r', 'BS', 'BS_flag', 'S/K', 'S-K_abs',\n",
              "       'tau_underroot', 'tau_power2', 'tau_power4', '1+r'],\n",
              "      dtype='object')"
            ]
          },
          "metadata": {},
          "execution_count": 37
        }
      ],
      "source": [
        "data_primary.columns"
      ]
    },
    {
      "cell_type": "markdown",
      "metadata": {
        "id": "pfcyGwibBqhJ"
      },
      "source": [
        "# Data Preparation and Test Train Split"
      ]
    },
    {
      "cell_type": "code",
      "execution_count": null,
      "metadata": {
        "id": "qqx18HBp3k41"
      },
      "outputs": [],
      "source": [
        "data_primary.reset_index(drop=True, inplace= True)"
      ]
    },
    {
      "cell_type": "code",
      "execution_count": null,
      "metadata": {
        "colab": {
          "base_uri": "https://localhost:8080/"
        },
        "id": "C6iZ-XEr3p56",
        "outputId": "57cb31ba-b480-4200-a850-754ab5ea0314"
      },
      "outputs": [
        {
          "output_type": "execute_result",
          "data": {
            "text/plain": [
              "          Value         S     K       tau         r     BS  BS_flag       S/K  \\\n",
              "0     21.670404  0.202299  0.36  0.867347  0.261603  Under        0  0.527326   \n",
              "1      0.125000  0.050749  0.72  0.418367  0.738397   Over        1  0.102610   \n",
              "2     20.691244  0.075309  0.32  0.673469  0.696203  Under        0  0.539275   \n",
              "3      1.035002  0.862901  0.68  0.153061  0.088608   Over        1  0.349871   \n",
              "4     39.553020  0.698712  0.28  0.418367  0.046414  Under        0  0.767650   \n",
              "...         ...       ...   ...       ...       ...    ...      ...       ...   \n",
              "1670   1.470000  0.622358  0.80  0.693878  0.350211   Over        1  0.169640   \n",
              "1671  34.927317  0.426906  0.28  0.765306  0.088608  Under        0  0.689362   \n",
              "1672  41.127997  0.084513  0.12  0.428571  1.000000  Under        0  0.798663   \n",
              "1673   0.440003  0.447538  0.84  0.744898  0.046414   Over        1  0.088783   \n",
              "1674   0.410002  0.220182  0.72  0.551020  0.177215   Over        1  0.145639   \n",
              "\n",
              "       S-K_abs  tau_underroot  tau_power2  tau_power4       1+r  \n",
              "0     0.207005       0.924440    0.754592    0.569447  0.261603  \n",
              "1     0.677849       0.612382    0.179898    0.032393  0.738397  \n",
              "2     0.227339       0.802844    0.457959    0.209777  0.696203  \n",
              "3     0.147426       0.335200    0.026020    0.000682  0.088608  \n",
              "4     0.655245       0.612382    0.179898    0.032393  0.046414  \n",
              "...        ...            ...         ...         ...       ...  \n",
              "1670  0.546000       0.816394    0.485714    0.235969  0.350211  \n",
              "1671  0.507615       0.862336    0.589286    0.347307  0.088608  \n",
              "1672  0.678880       0.620952    0.188571    0.035590  1.000000  \n",
              "1673  0.730260       0.849434    0.558673    0.312166  0.046414  \n",
              "1674  0.585822       0.716904    0.308571    0.095260  0.177215  \n",
              "\n",
              "[1675 rows x 13 columns]"
            ],
            "text/html": [
              "\n",
              "  <div id=\"df-cc69f3ba-dadb-48dc-a7cd-264cb62bbf1f\">\n",
              "    <div class=\"colab-df-container\">\n",
              "      <div>\n",
              "<style scoped>\n",
              "    .dataframe tbody tr th:only-of-type {\n",
              "        vertical-align: middle;\n",
              "    }\n",
              "\n",
              "    .dataframe tbody tr th {\n",
              "        vertical-align: top;\n",
              "    }\n",
              "\n",
              "    .dataframe thead th {\n",
              "        text-align: right;\n",
              "    }\n",
              "</style>\n",
              "<table border=\"1\" class=\"dataframe\">\n",
              "  <thead>\n",
              "    <tr style=\"text-align: right;\">\n",
              "      <th></th>\n",
              "      <th>Value</th>\n",
              "      <th>S</th>\n",
              "      <th>K</th>\n",
              "      <th>tau</th>\n",
              "      <th>r</th>\n",
              "      <th>BS</th>\n",
              "      <th>BS_flag</th>\n",
              "      <th>S/K</th>\n",
              "      <th>S-K_abs</th>\n",
              "      <th>tau_underroot</th>\n",
              "      <th>tau_power2</th>\n",
              "      <th>tau_power4</th>\n",
              "      <th>1+r</th>\n",
              "    </tr>\n",
              "  </thead>\n",
              "  <tbody>\n",
              "    <tr>\n",
              "      <th>0</th>\n",
              "      <td>21.670404</td>\n",
              "      <td>0.202299</td>\n",
              "      <td>0.36</td>\n",
              "      <td>0.867347</td>\n",
              "      <td>0.261603</td>\n",
              "      <td>Under</td>\n",
              "      <td>0</td>\n",
              "      <td>0.527326</td>\n",
              "      <td>0.207005</td>\n",
              "      <td>0.924440</td>\n",
              "      <td>0.754592</td>\n",
              "      <td>0.569447</td>\n",
              "      <td>0.261603</td>\n",
              "    </tr>\n",
              "    <tr>\n",
              "      <th>1</th>\n",
              "      <td>0.125000</td>\n",
              "      <td>0.050749</td>\n",
              "      <td>0.72</td>\n",
              "      <td>0.418367</td>\n",
              "      <td>0.738397</td>\n",
              "      <td>Over</td>\n",
              "      <td>1</td>\n",
              "      <td>0.102610</td>\n",
              "      <td>0.677849</td>\n",
              "      <td>0.612382</td>\n",
              "      <td>0.179898</td>\n",
              "      <td>0.032393</td>\n",
              "      <td>0.738397</td>\n",
              "    </tr>\n",
              "    <tr>\n",
              "      <th>2</th>\n",
              "      <td>20.691244</td>\n",
              "      <td>0.075309</td>\n",
              "      <td>0.32</td>\n",
              "      <td>0.673469</td>\n",
              "      <td>0.696203</td>\n",
              "      <td>Under</td>\n",
              "      <td>0</td>\n",
              "      <td>0.539275</td>\n",
              "      <td>0.227339</td>\n",
              "      <td>0.802844</td>\n",
              "      <td>0.457959</td>\n",
              "      <td>0.209777</td>\n",
              "      <td>0.696203</td>\n",
              "    </tr>\n",
              "    <tr>\n",
              "      <th>3</th>\n",
              "      <td>1.035002</td>\n",
              "      <td>0.862901</td>\n",
              "      <td>0.68</td>\n",
              "      <td>0.153061</td>\n",
              "      <td>0.088608</td>\n",
              "      <td>Over</td>\n",
              "      <td>1</td>\n",
              "      <td>0.349871</td>\n",
              "      <td>0.147426</td>\n",
              "      <td>0.335200</td>\n",
              "      <td>0.026020</td>\n",
              "      <td>0.000682</td>\n",
              "      <td>0.088608</td>\n",
              "    </tr>\n",
              "    <tr>\n",
              "      <th>4</th>\n",
              "      <td>39.553020</td>\n",
              "      <td>0.698712</td>\n",
              "      <td>0.28</td>\n",
              "      <td>0.418367</td>\n",
              "      <td>0.046414</td>\n",
              "      <td>Under</td>\n",
              "      <td>0</td>\n",
              "      <td>0.767650</td>\n",
              "      <td>0.655245</td>\n",
              "      <td>0.612382</td>\n",
              "      <td>0.179898</td>\n",
              "      <td>0.032393</td>\n",
              "      <td>0.046414</td>\n",
              "    </tr>\n",
              "    <tr>\n",
              "      <th>...</th>\n",
              "      <td>...</td>\n",
              "      <td>...</td>\n",
              "      <td>...</td>\n",
              "      <td>...</td>\n",
              "      <td>...</td>\n",
              "      <td>...</td>\n",
              "      <td>...</td>\n",
              "      <td>...</td>\n",
              "      <td>...</td>\n",
              "      <td>...</td>\n",
              "      <td>...</td>\n",
              "      <td>...</td>\n",
              "      <td>...</td>\n",
              "    </tr>\n",
              "    <tr>\n",
              "      <th>1670</th>\n",
              "      <td>1.470000</td>\n",
              "      <td>0.622358</td>\n",
              "      <td>0.80</td>\n",
              "      <td>0.693878</td>\n",
              "      <td>0.350211</td>\n",
              "      <td>Over</td>\n",
              "      <td>1</td>\n",
              "      <td>0.169640</td>\n",
              "      <td>0.546000</td>\n",
              "      <td>0.816394</td>\n",
              "      <td>0.485714</td>\n",
              "      <td>0.235969</td>\n",
              "      <td>0.350211</td>\n",
              "    </tr>\n",
              "    <tr>\n",
              "      <th>1671</th>\n",
              "      <td>34.927317</td>\n",
              "      <td>0.426906</td>\n",
              "      <td>0.28</td>\n",
              "      <td>0.765306</td>\n",
              "      <td>0.088608</td>\n",
              "      <td>Under</td>\n",
              "      <td>0</td>\n",
              "      <td>0.689362</td>\n",
              "      <td>0.507615</td>\n",
              "      <td>0.862336</td>\n",
              "      <td>0.589286</td>\n",
              "      <td>0.347307</td>\n",
              "      <td>0.088608</td>\n",
              "    </tr>\n",
              "    <tr>\n",
              "      <th>1672</th>\n",
              "      <td>41.127997</td>\n",
              "      <td>0.084513</td>\n",
              "      <td>0.12</td>\n",
              "      <td>0.428571</td>\n",
              "      <td>1.000000</td>\n",
              "      <td>Under</td>\n",
              "      <td>0</td>\n",
              "      <td>0.798663</td>\n",
              "      <td>0.678880</td>\n",
              "      <td>0.620952</td>\n",
              "      <td>0.188571</td>\n",
              "      <td>0.035590</td>\n",
              "      <td>1.000000</td>\n",
              "    </tr>\n",
              "    <tr>\n",
              "      <th>1673</th>\n",
              "      <td>0.440003</td>\n",
              "      <td>0.447538</td>\n",
              "      <td>0.84</td>\n",
              "      <td>0.744898</td>\n",
              "      <td>0.046414</td>\n",
              "      <td>Over</td>\n",
              "      <td>1</td>\n",
              "      <td>0.088783</td>\n",
              "      <td>0.730260</td>\n",
              "      <td>0.849434</td>\n",
              "      <td>0.558673</td>\n",
              "      <td>0.312166</td>\n",
              "      <td>0.046414</td>\n",
              "    </tr>\n",
              "    <tr>\n",
              "      <th>1674</th>\n",
              "      <td>0.410002</td>\n",
              "      <td>0.220182</td>\n",
              "      <td>0.72</td>\n",
              "      <td>0.551020</td>\n",
              "      <td>0.177215</td>\n",
              "      <td>Over</td>\n",
              "      <td>1</td>\n",
              "      <td>0.145639</td>\n",
              "      <td>0.585822</td>\n",
              "      <td>0.716904</td>\n",
              "      <td>0.308571</td>\n",
              "      <td>0.095260</td>\n",
              "      <td>0.177215</td>\n",
              "    </tr>\n",
              "  </tbody>\n",
              "</table>\n",
              "<p>1675 rows × 13 columns</p>\n",
              "</div>\n",
              "      <button class=\"colab-df-convert\" onclick=\"convertToInteractive('df-cc69f3ba-dadb-48dc-a7cd-264cb62bbf1f')\"\n",
              "              title=\"Convert this dataframe to an interactive table.\"\n",
              "              style=\"display:none;\">\n",
              "        \n",
              "  <svg xmlns=\"http://www.w3.org/2000/svg\" height=\"24px\"viewBox=\"0 0 24 24\"\n",
              "       width=\"24px\">\n",
              "    <path d=\"M0 0h24v24H0V0z\" fill=\"none\"/>\n",
              "    <path d=\"M18.56 5.44l.94 2.06.94-2.06 2.06-.94-2.06-.94-.94-2.06-.94 2.06-2.06.94zm-11 1L8.5 8.5l.94-2.06 2.06-.94-2.06-.94L8.5 2.5l-.94 2.06-2.06.94zm10 10l.94 2.06.94-2.06 2.06-.94-2.06-.94-.94-2.06-.94 2.06-2.06.94z\"/><path d=\"M17.41 7.96l-1.37-1.37c-.4-.4-.92-.59-1.43-.59-.52 0-1.04.2-1.43.59L10.3 9.45l-7.72 7.72c-.78.78-.78 2.05 0 2.83L4 21.41c.39.39.9.59 1.41.59.51 0 1.02-.2 1.41-.59l7.78-7.78 2.81-2.81c.8-.78.8-2.07 0-2.86zM5.41 20L4 18.59l7.72-7.72 1.47 1.35L5.41 20z\"/>\n",
              "  </svg>\n",
              "      </button>\n",
              "      \n",
              "  <style>\n",
              "    .colab-df-container {\n",
              "      display:flex;\n",
              "      flex-wrap:wrap;\n",
              "      gap: 12px;\n",
              "    }\n",
              "\n",
              "    .colab-df-convert {\n",
              "      background-color: #E8F0FE;\n",
              "      border: none;\n",
              "      border-radius: 50%;\n",
              "      cursor: pointer;\n",
              "      display: none;\n",
              "      fill: #1967D2;\n",
              "      height: 32px;\n",
              "      padding: 0 0 0 0;\n",
              "      width: 32px;\n",
              "    }\n",
              "\n",
              "    .colab-df-convert:hover {\n",
              "      background-color: #E2EBFA;\n",
              "      box-shadow: 0px 1px 2px rgba(60, 64, 67, 0.3), 0px 1px 3px 1px rgba(60, 64, 67, 0.15);\n",
              "      fill: #174EA6;\n",
              "    }\n",
              "\n",
              "    [theme=dark] .colab-df-convert {\n",
              "      background-color: #3B4455;\n",
              "      fill: #D2E3FC;\n",
              "    }\n",
              "\n",
              "    [theme=dark] .colab-df-convert:hover {\n",
              "      background-color: #434B5C;\n",
              "      box-shadow: 0px 1px 3px 1px rgba(0, 0, 0, 0.15);\n",
              "      filter: drop-shadow(0px 1px 2px rgba(0, 0, 0, 0.3));\n",
              "      fill: #FFFFFF;\n",
              "    }\n",
              "  </style>\n",
              "\n",
              "      <script>\n",
              "        const buttonEl =\n",
              "          document.querySelector('#df-cc69f3ba-dadb-48dc-a7cd-264cb62bbf1f button.colab-df-convert');\n",
              "        buttonEl.style.display =\n",
              "          google.colab.kernel.accessAllowed ? 'block' : 'none';\n",
              "\n",
              "        async function convertToInteractive(key) {\n",
              "          const element = document.querySelector('#df-cc69f3ba-dadb-48dc-a7cd-264cb62bbf1f');\n",
              "          const dataTable =\n",
              "            await google.colab.kernel.invokeFunction('convertToInteractive',\n",
              "                                                     [key], {});\n",
              "          if (!dataTable) return;\n",
              "\n",
              "          const docLinkHtml = 'Like what you see? Visit the ' +\n",
              "            '<a target=\"_blank\" href=https://colab.research.google.com/notebooks/data_table.ipynb>data table notebook</a>'\n",
              "            + ' to learn more about interactive tables.';\n",
              "          element.innerHTML = '';\n",
              "          dataTable['output_type'] = 'display_data';\n",
              "          await google.colab.output.renderOutput(dataTable, element);\n",
              "          const docLink = document.createElement('div');\n",
              "          docLink.innerHTML = docLinkHtml;\n",
              "          element.appendChild(docLink);\n",
              "        }\n",
              "      </script>\n",
              "    </div>\n",
              "  </div>\n",
              "  "
            ]
          },
          "metadata": {},
          "execution_count": 39
        }
      ],
      "source": [
        "data_primary2 = data_primary.loc[:,[ 'S', 'K', 'tau', 'r', 'S/K', 'S-K_abs', 'tau_underroot','tau_power2', 'tau_power4', '1+r']]\n",
        "\n",
        "scaler = MinMaxScaler()\n",
        "scaler.fit(data_primary2)\n",
        "data_primary2 = pd.DataFrame(scaler.transform(data_primary2), columns = ['S', 'K', 'tau', 'r', 'S/K', 'S-K_abs', 'tau_underroot','tau_power2', 'tau_power4', '1+r'])\n",
        "\n",
        "for i in ['S', 'K', 'tau', 'r', 'S/K', 'S-K_abs', 'tau_underroot','tau_power2', 'tau_power4', '1+r']:\n",
        "    data_primary[i] = data_primary2[i]\n",
        "\n",
        "data_primary"
      ]
    },
    {
      "cell_type": "code",
      "execution_count": null,
      "metadata": {
        "id": "n7HCimAsCAJ0"
      },
      "outputs": [],
      "source": [
        "X = data_primary.loc[:,['S', 'K', 'tau', 'r', 'S/K', 'S-K_abs','tau_underroot', 'tau_power2', 'tau_power4', '1+r']]\n",
        "y2 = data_primary.loc[:,['BS_flag']]\n",
        "y1 = data_primary.loc[:,['Value']]\n",
        "\n",
        "X_train, X_test, y_train2, y_test2 =train_test_split(X, y2, test_size=0.3, random_state=0, stratify=y2)\n",
        "\n",
        "y_train1 = pd.DataFrame(columns = ['Value'])\n",
        "y_test1 = pd.DataFrame(columns = ['Value'])\n",
        "\n",
        "for i in y_train2.index:\n",
        "    y_train1.loc[i,'Value'] = data_primary.loc[i,'Value']\n",
        "\n",
        "for i in y_test2.index:\n",
        "    y_test1.loc[i,'Value'] = data_primary.loc[i,'Value']"
      ]
    },
    {
      "cell_type": "markdown",
      "metadata": {
        "id": "ZCpiAQWqCcgX"
      },
      "source": [
        "# Value Prediction"
      ]
    },
    {
      "cell_type": "markdown",
      "metadata": {
        "id": "3B5XDegs-73G"
      },
      "source": [
        "## Linear Regression"
      ]
    },
    {
      "cell_type": "markdown",
      "metadata": {
        "id": "WqOIQHhXChEz"
      },
      "source": [
        "### Feature selection"
      ]
    },
    {
      "cell_type": "code",
      "execution_count": null,
      "metadata": {
        "colab": {
          "base_uri": "https://localhost:8080/",
          "height": 585
        },
        "id": "tjuevniPrvap",
        "outputId": "d0313165-9c07-48c5-e5f7-0036e4090683"
      },
      "outputs": [
        {
          "output_type": "display_data",
          "data": {
            "text/plain": [
              "<Figure size 720x576 with 1 Axes>"
            ],
            "image/png": "[encoded data removed]"
          },
          "metadata": {}
        }
      ],
      "source": [
        "feature_count = list(range(1,11))\n",
        "R2 = []\n",
        "\n",
        "for k in feature_count:\n",
        "  Linear_reg = LinearRegression()\n",
        "  sfs1 = sfs(Linear_reg,k_features=k, forward=True, scoring='r2')\n",
        "  sfs1.fit(X_train, y_train1)\n",
        "  feat_names = list(sfs1.k_feature_names_)\n",
        "  model = LinearRegression().fit(X_train[feat_names], y_train1)\n",
        "  r_sq = model.score(X_test[feat_names], y_test1) \n",
        "  R2.append(r_sq)\n",
        "\n",
        "plt.figure(figsize=(10,8))\n",
        "plt.plot(feature_count, R2, 'bx-')\n",
        "plt.xlabel('# of features')\n",
        "plt.ylabel('R2 of test split')\n",
        "plt.title('# of Features vs R2 of Test Split')\n",
        "plt.show()"
      ]
    },
    {
      "cell_type": "code",
      "execution_count": null,
      "metadata": {
        "colab": {
          "base_uri": "https://localhost:8080/"
        },
        "id": "gLXnGqQ4Cltm",
        "outputId": "31ffa18f-457a-480a-b9d5-1c90ad2c4524"
      },
      "outputs": [
        {
          "output_type": "stream",
          "name": "stdout",
          "text": [
            "['tau', 'S/K', 'S-K_abs']\n"
          ]
        }
      ],
      "source": [
        "Linear_reg = LinearRegression()\n",
        "sfs1 = sfs(Linear_reg,k_features=3, forward=True, scoring='r2')\n",
        "sfs1.fit(X_train, y_train1)\n",
        "feat_names_LinR = list(sfs1.k_feature_names_)\n",
        "print(feat_names_LinR)"
      ]
    },
    {
      "cell_type": "code",
      "execution_count": null,
      "metadata": {
        "id": "qlTD5vHGsgoX"
      },
      "outputs": [],
      "source": [
        "feat_names_LinR = feat_names_LinR + ['r']"
      ]
    },
    {
      "cell_type": "markdown",
      "metadata": {
        "id": "ipuXM4_PFOH1"
      },
      "source": [
        "### Data Modeling"
      ]
    },
    {
      "cell_type": "code",
      "execution_count": null,
      "metadata": {
        "colab": {
          "base_uri": "https://localhost:8080/"
        },
        "id": "nRSvss2w1cey",
        "outputId": "23b3d9a7-1519-4041-980e-ab55d56f0123"
      },
      "outputs": [
        {
          "output_type": "stream",
          "name": "stdout",
          "text": [
            "Linear Regression: \n",
            "R squared of 5-folds: [0.99574382 0.9945653  0.9947298  0.99404035 0.99517379] \n",
            "(mean R squared: 0.9948506115337015 )\n"
          ]
        }
      ],
      "source": [
        "# doing K-Fold validation to check model performance\n",
        "cv = KFold(n_splits=5, random_state=1234, shuffle=True)\n",
        "regression_model = LinearRegression()\n",
        "regression_model.fit(X_train[feat_names_LinR], y_train1)\n",
        "model_score = cross_val_score(regression_model, X_train[feat_names_LinR], y_train1, cv=cv, scoring = 'r2')\n",
        "\n",
        "print(\"Linear Regression: \")\n",
        "print(\"R squared of 5-folds:\",model_score,\"\\n(mean R squared:\",np.mean(model_score),\")\")\n"
      ]
    },
    {
      "cell_type": "code",
      "execution_count": null,
      "metadata": {
        "colab": {
          "base_uri": "https://localhost:8080/"
        },
        "id": "BnmP_9mrhHfx",
        "outputId": "1937202f-f23e-4e56-9f51-7f2d5163b43c"
      },
      "outputs": [
        {
          "output_type": "execute_result",
          "data": {
            "text/plain": [
              "array([[ 9.0445633 , 64.44681028, 15.2009513 ,  0.1755355 ]])"
            ]
          },
          "metadata": {},
          "execution_count": 45
        }
      ],
      "source": [
        "regression_model.coef_"
      ]
    },
    {
      "cell_type": "markdown",
      "metadata": {
        "id": "zTuzDusnGoSl"
      },
      "source": [
        "### Model Performance on Test Set (User created)"
      ]
    },
    {
      "cell_type": "code",
      "execution_count": null,
      "metadata": {
        "colab": {
          "base_uri": "https://localhost:8080/"
        },
        "id": "ilYNE_rPGnpu",
        "outputId": "b92379e9-5e17-4556-92d5-b4e63ef13ee9"
      },
      "outputs": [
        {
          "output_type": "execute_result",
          "data": {
            "text/plain": [
              "0.9945275988505234"
            ]
          },
          "metadata": {},
          "execution_count": 46
        }
      ],
      "source": [
        "#Checking Model Performance on Test Set\n",
        "\n",
        "r_sq = regression_model.score(X_test[feat_names_LinR], y_test1) \n",
        "r_sq"
      ]
    },
    {
      "cell_type": "markdown",
      "metadata": {
        "id": "7AgQCdBa-_yq"
      },
      "source": [
        "## Random Forest Regressor"
      ]
    },
    {
      "cell_type": "markdown",
      "metadata": {
        "id": "fqyWyW9ma11X"
      },
      "source": [
        "### Feature Selection"
      ]
    },
    {
      "cell_type": "code",
      "execution_count": null,
      "metadata": {
        "colab": {
          "base_uri": "https://localhost:8080/",
          "height": 585
        },
        "id": "f0AuXQOI-_Mo",
        "outputId": "494de4a9-bcf1-41b7-8326-e8a9758be7dd"
      },
      "outputs": [
        {
          "data": {
            "image/png": "[encoded data removed]",
            "text/plain": [
              "<Figure size 720x576 with 1 Axes>"
            ]
          },
          "metadata": {},
          "output_type": "display_data"
        }
      ],
      "source": [
        "feature_count = list(range(1,11))\n",
        "R2 = []\n",
        "\n",
        "for k in feature_count:\n",
        "  rf_reg = RandomForestRegressor(random_state=1234)\n",
        "  sfs2 = sfs(rf_reg,k_features=k, forward=True, scoring='r2')\n",
        "  sfs2.fit(X_train, y_train1)\n",
        "  feat_names = list(sfs2.k_feature_names_)\n",
        "  model = RandomForestRegressor(random_state=1234).fit(X_train[feat_names], y_train1)\n",
        "  r_sq = model.score(X_test[feat_names], y_test1) \n",
        "  R2.append(r_sq)\n",
        "\n",
        "plt.figure(figsize=(10,8))\n",
        "plt.plot(feature_count, R2, 'bx-')\n",
        "plt.xlabel('# of features')\n",
        "plt.ylabel('R2 of test split')\n",
        "plt.title('# of Features vs R2 of Test Split')\n",
        "plt.show()"
      ]
    },
    {
      "cell_type": "code",
      "execution_count": null,
      "metadata": {
        "colab": {
          "base_uri": "https://localhost:8080/"
        },
        "id": "B8uPh2QTYaxk",
        "outputId": "78e308fb-6d5e-4373-a964-30426b7164f2"
      },
      "outputs": [
        {
          "output_type": "stream",
          "name": "stdout",
          "text": [
            "['S/K', 'tau_underroot']\n"
          ]
        }
      ],
      "source": [
        "rf_reg = RandomForestRegressor(random_state=1234)\n",
        "sfs2 = sfs(rf_reg,k_features=2, forward=True, scoring='r2')\n",
        "sfs2.fit(X_train, y_train1)\n",
        "feat_names_rfR = list(sfs2.k_feature_names_)\n",
        "print(feat_names_rfR)"
      ]
    },
    {
      "cell_type": "code",
      "execution_count": null,
      "metadata": {
        "id": "QmiZa6yxxdA-"
      },
      "outputs": [],
      "source": [
        "feat_names_rfR = feat_names_rfR + ['r']"
      ]
    },
    {
      "cell_type": "markdown",
      "metadata": {
        "id": "3I-Af2u2a8uP"
      },
      "source": [
        "### Data Modeling"
      ]
    },
    {
      "cell_type": "code",
      "execution_count": null,
      "metadata": {
        "colab": {
          "base_uri": "https://localhost:8080/"
        },
        "id": "uWRVRPzDa1Fc",
        "outputId": "2e7feae4-84cd-4ef3-9bc7-5aa26f5ffd57"
      },
      "outputs": [
        {
          "output_type": "stream",
          "name": "stdout",
          "text": [
            "RF Regression: \n",
            "R squared of 5-folds: [0.99772576 0.99752309 0.99746519 0.99791723 0.99740396] \n",
            "(mean R squared: 0.9976070480078164 )\n",
            "RF Regression R2 on test dataset:  0.998211544820166\n"
          ]
        }
      ],
      "source": [
        "cv = KFold(n_splits=5, random_state=1234, shuffle=True)\n",
        "rf_reg = RandomForestRegressor(random_state=1234)\n",
        "rf_reg.fit(X_train[feat_names_rfR], y_train1)\n",
        "model_score = cross_val_score(rf_reg, X_train[feat_names_rfR], y_train1, cv=cv, scoring = 'r2')\n",
        "\n",
        "print(\"RF Regression: \")\n",
        "print(\"R squared of 5-folds:\",model_score,\"\\n(mean R squared:\",np.mean(model_score),\")\")\n",
        "\n",
        "r_sq = rf_reg.score(X_test[feat_names_rfR], y_test1) \n",
        "print(\"RF Regression R2 on test dataset: \", r_sq)"
      ]
    },
    {
      "cell_type": "markdown",
      "metadata": {
        "id": "p5PCXNl_pnTb"
      },
      "source": [
        "### Hyperparameter Tuning"
      ]
    },
    {
      "cell_type": "code",
      "execution_count": null,
      "metadata": {
        "colab": {
          "base_uri": "https://localhost:8080/"
        },
        "id": "5fn9Zvbfp617",
        "outputId": "232daf8b-880f-421f-955a-6571c87056e8"
      },
      "outputs": [
        {
          "output_type": "execute_result",
          "data": {
            "text/plain": [
              "RandomizedSearchCV(cv=5, estimator=RandomForestRegressor(random_state=1234),\n",
              "                   param_distributions={'bootstrap': [True, False],\n",
              "                                        'max_depth': [1, 2, 3, 4, 5, 6, 7, 8, 9,\n",
              "                                                      10, None],\n",
              "                                        'min_samples_leaf': [1, 2, 3, 4],\n",
              "                                        'min_samples_split': [2, 3, 4, 5],\n",
              "                                        'n_estimators': [100, 105, 110, 115,\n",
              "                                                         121, 126, 131, 136,\n",
              "                                                         142, 147, 152, 157,\n",
              "                                                         163, 168, 173, 178,\n",
              "                                                         184, 189, 194, 200]},\n",
              "                   random_state=1234, scoring='r2')"
            ]
          },
          "metadata": {},
          "execution_count": 50
        }
      ],
      "source": [
        "n_estimators = [int(x) for x in np.linspace(start = 100, stop = 200, num = 20)]\n",
        "# max_features = ['auto', 'sqrt']\n",
        "max_depth = [int(x) for x in np.linspace(1, 10, num = 10)]\n",
        "max_depth.append(None)\n",
        "min_samples_split = [2, 3, 4, 5]\n",
        "min_samples_leaf = [1, 2, 3, 4]\n",
        "bootstrap = [True, False]\n",
        "\n",
        "random_grid = {'n_estimators': n_estimators,\n",
        "               'max_depth': max_depth,\n",
        "               'min_samples_split': min_samples_split,\n",
        "               'min_samples_leaf': min_samples_leaf,\n",
        "               'bootstrap': bootstrap}\n",
        "\n",
        "grid_RF_reg = RandomizedSearchCV(RandomForestRegressor(random_state=1234),random_grid, cv=5, scoring = 'r2',random_state = 1234)\n",
        "grid_RF_reg.fit(X_train[feat_names_rfR],y_train2)"
      ]
    },
    {
      "cell_type": "code",
      "execution_count": null,
      "metadata": {
        "colab": {
          "base_uri": "https://localhost:8080/"
        },
        "id": "YNtQh2RIqHlU",
        "outputId": "e2759731-4ad0-4108-8470-262c2a5516ac"
      },
      "outputs": [
        {
          "output_type": "stream",
          "name": "stdout",
          "text": [
            "{'n_estimators': 194, 'min_samples_split': 3, 'min_samples_leaf': 1, 'max_depth': 5, 'bootstrap': True}\n"
          ]
        }
      ],
      "source": [
        "print(grid_RF_reg.best_params_)"
      ]
    },
    {
      "cell_type": "code",
      "execution_count": null,
      "metadata": {
        "colab": {
          "base_uri": "https://localhost:8080/"
        },
        "id": "lfS7CUFyqLAE",
        "outputId": "75224b92-2b65-44bb-b5d2-f0dcec9fb6fd"
      },
      "outputs": [
        {
          "output_type": "stream",
          "name": "stdout",
          "text": [
            "RF Regression: \n",
            "R squared of 5-folds: [0.99279578 0.99242773 0.9935035  0.99371717 0.99439174] \n",
            "(mean R squared: 0.9933671838969798 )\n",
            "RF Regression R2 on test dataset:  0.994440353117182\n"
          ]
        }
      ],
      "source": [
        "cv = KFold(n_splits=5, random_state=1234, shuffle=True)\n",
        "rf_reg2 = RandomForestRegressor(n_estimators = 194, min_samples_split =  3, min_samples_leaf = 1, max_depth = 5, bootstrap= True, random_state=1234)\n",
        "rf_reg2.fit(X_train[feat_names_rfR], y_train1)\n",
        "model_score = cross_val_score(rf_reg2, X_train[feat_names_rfR], y_train1, cv=cv, scoring = 'r2')\n",
        "\n",
        "print(\"RF Regression: \")\n",
        "print(\"R squared of 5-folds:\",model_score,\"\\n(mean R squared:\",np.mean(model_score),\")\")\n",
        "\n",
        "r_sq2 = rf_reg2.score(X_test[feat_names_rfR], y_test1) \n",
        "print(\"RF Regression R2 on test dataset: \", r_sq2)"
      ]
    },
    {
      "cell_type": "markdown",
      "metadata": {
        "id": "Xr3P2sulG95C"
      },
      "source": [
        "# BS Prediction"
      ]
    },
    {
      "cell_type": "markdown",
      "metadata": {
        "id": "hgUHATVAHZPJ"
      },
      "source": [
        "## Logistic regression"
      ]
    },
    {
      "cell_type": "markdown",
      "metadata": {
        "id": "wjV4Tu9UHCm9"
      },
      "source": [
        "### Feature selection"
      ]
    },
    {
      "cell_type": "code",
      "execution_count": null,
      "metadata": {
        "colab": {
          "base_uri": "https://localhost:8080/",
          "height": 585
        },
        "id": "bpXvrVEHFI3f",
        "outputId": "d8edf1df-8bfb-4735-a935-2f79efda340b"
      },
      "outputs": [
        {
          "data": {
            "image/png": "[encoded data removed]",
            "text/plain": [
              "<Figure size 720x576 with 1 Axes>"
            ]
          },
          "metadata": {},
          "output_type": "display_data"
        }
      ],
      "source": [
        "feature_count = list(range(1,11))\n",
        "score_list = []\n",
        "\n",
        "for k in feature_count:\n",
        "  Logistic_reg = LogisticRegression(random_state= 1234)\n",
        "  sfs3 = sfs(Logistic_reg,k_features=k, forward=True, scoring='roc_auc')\n",
        "  sfs3.fit(X_train, y_train2)\n",
        "  feat_names = list(sfs3.k_feature_names_)\n",
        "  model = LogisticRegression(random_state= 1234).fit(X_train[feat_names], y_train2)\n",
        "  score = model.score(X_test[feat_names], y_test2) \n",
        "  score_list.append(score)\n",
        "\n",
        "plt.figure(figsize=(10,8))\n",
        "plt.plot(feature_count, score_list, 'bx-')\n",
        "plt.xlabel('# of features')\n",
        "plt.ylabel('Score of test split')\n",
        "plt.title('# of Features vs Score of Test Split')\n",
        "plt.show()"
      ]
    },
    {
      "cell_type": "code",
      "execution_count": null,
      "metadata": {
        "colab": {
          "base_uri": "https://localhost:8080/"
        },
        "id": "8ixFBleeHKKv",
        "outputId": "2bc97112-cb04-4b5c-f3b4-a9ca8a8a4f20"
      },
      "outputs": [
        {
          "output_type": "stream",
          "name": "stdout",
          "text": [
            "['S', 'r', 'S/K', 'tau_power2', 'tau_power4']\n"
          ]
        }
      ],
      "source": [
        "Logistic_reg = LogisticRegression(random_state= 1234)\n",
        "sfs3 = sfs(Logistic_reg,k_features=5, forward=True, scoring='roc_auc')\n",
        "sfs3.fit(X_train, y_train2)\n",
        "feat_names_LogR = list(sfs3.k_feature_names_)\n",
        "print(feat_names_LogR)"
      ]
    },
    {
      "cell_type": "code",
      "execution_count": null,
      "metadata": {
        "colab": {
          "base_uri": "https://localhost:8080/"
        },
        "id": "lwbUw8UQ472_",
        "outputId": "42763708-558a-4f7b-fb0a-a2ab4f3874d4"
      },
      "outputs": [
        {
          "output_type": "stream",
          "name": "stdout",
          "text": [
            "[[264  20]\n",
            " [ 19 200]]\n",
            "              precision    recall  f1-score   support\n",
            "\n",
            "           0       0.93      0.93      0.93       284\n",
            "           1       0.91      0.91      0.91       219\n",
            "\n",
            "    accuracy                           0.92       503\n",
            "   macro avg       0.92      0.92      0.92       503\n",
            "weighted avg       0.92      0.92      0.92       503\n",
            "\n"
          ]
        }
      ],
      "source": [
        "Logistic_reg = LogisticRegression(random_state= 1234)\n",
        "Logistic_reg.fit(X_train[feat_names_LogR], y_train2)\n",
        "predictions_Log = Logistic_reg.predict(X_test[feat_names_LogR])\n",
        "print(confusion_matrix(y_test2,predictions_Log))\n",
        "print(classification_report(y_test2,predictions_Log))"
      ]
    },
    {
      "cell_type": "markdown",
      "metadata": {
        "id": "3sx_E8e6HiMr"
      },
      "source": [
        "## SVM"
      ]
    },
    {
      "cell_type": "markdown",
      "metadata": {
        "id": "GaNsENU73K3W"
      },
      "source": [
        "### Feature selection"
      ]
    },
    {
      "cell_type": "code",
      "execution_count": null,
      "metadata": {
        "colab": {
          "base_uri": "https://localhost:8080/",
          "height": 585
        },
        "id": "Sdwr0PR0L6CW",
        "outputId": "87cba225-3232-4244-e3d2-ee2e088af9d3"
      },
      "outputs": [
        {
          "output_type": "display_data",
          "data": {
            "text/plain": [
              "<Figure size 720x576 with 1 Axes>"
            ],
            "image/png": "[encoded data removed]"
          },
          "metadata": {}
        }
      ],
      "source": [
        "feature_count = list(range(1,11))\n",
        "score_list = []\n",
        "\n",
        "for k in feature_count:\n",
        "  SVM_model = SVC(probability=True, random_state= 1234)\n",
        "  sfs4 = sfs(SVM_model,k_features=k, forward=True, scoring='roc_auc')\n",
        "  sfs4.fit(X_train, y_train2)\n",
        "  feat_names = list(sfs4.k_feature_names_)\n",
        "  model = SVC(probability=True, random_state= 1234).fit(X_train[feat_names], y_train2)\n",
        "  score = model.score(X_test[feat_names], y_test2) \n",
        "  score_list.append(score)\n",
        "\n",
        "plt.figure(figsize=(10,8))\n",
        "plt.plot(feature_count, score_list, 'bx-')\n",
        "plt.xlabel('# of features')\n",
        "plt.ylabel('Score of test split')\n",
        "plt.title('# of Features vs Score of Test Split')\n",
        "plt.show()"
      ]
    },
    {
      "cell_type": "code",
      "execution_count": null,
      "metadata": {
        "colab": {
          "base_uri": "https://localhost:8080/"
        },
        "id": "f6whVe83Hmpq",
        "outputId": "83b92616-b999-4e95-b234-6b0d994032d0"
      },
      "outputs": [
        {
          "output_type": "stream",
          "name": "stdout",
          "text": [
            "['S', 'K', 'tau', 'r', 'S/K', 'S-K_abs', 'tau_underroot']\n"
          ]
        }
      ],
      "source": [
        "SVM_model = SVC(probability=True, random_state= 1234)\n",
        "sfs4 = sfs(SVM_model,k_features=7, forward=True, scoring='roc_auc')\n",
        "sfs4.fit(X_train, y_train2)\n",
        "feat_names_SVM = list(sfs4.k_feature_names_)\n",
        "print(feat_names_SVM)"
      ]
    },
    {
      "cell_type": "code",
      "execution_count": null,
      "metadata": {
        "colab": {
          "base_uri": "https://localhost:8080/"
        },
        "id": "-u8HjnFs5eTE",
        "outputId": "2a5dee86-2f1b-4c62-9543-9a25df29384c"
      },
      "outputs": [
        {
          "name": "stdout",
          "output_type": "stream",
          "text": [
            "[[269  15]\n",
            " [ 22 197]]\n",
            "              precision    recall  f1-score   support\n",
            "\n",
            "           0       0.92      0.95      0.94       284\n",
            "           1       0.93      0.90      0.91       219\n",
            "\n",
            "    accuracy                           0.93       503\n",
            "   macro avg       0.93      0.92      0.92       503\n",
            "weighted avg       0.93      0.93      0.93       503\n",
            "\n"
          ]
        }
      ],
      "source": [
        "SVM_model = SVC(probability=True, random_state= 1234)\n",
        "SVM_model.fit(X_train[feat_names_SVM], y_train2)\n",
        "predictions_SVM = SVM_model.predict(X_test[feat_names_SVM])\n",
        "print(confusion_matrix(y_test2,predictions_SVM))\n",
        "print(classification_report(y_test2,predictions_SVM))"
      ]
    },
    {
      "cell_type": "markdown",
      "metadata": {
        "id": "Z4X1STiw3N7M"
      },
      "source": [
        "### Hyperparameter Tuning"
      ]
    },
    {
      "cell_type": "code",
      "execution_count": null,
      "metadata": {
        "colab": {
          "base_uri": "https://localhost:8080/"
        },
        "id": "SxDp2iY23RVr",
        "outputId": "05ef691b-11c1-4431-90c8-b0c1cd408788"
      },
      "outputs": [
        {
          "output_type": "execute_result",
          "data": {
            "text/plain": [
              "RandomizedSearchCV(cv=5, estimator=SVC(probability=True, random_state=1234),\n",
              "                   param_distributions={'C': [0.001, 0.01, 0.1, 1, 10, 100,\n",
              "                                              1000],\n",
              "                                        'gamma': [1, 0.1, 0.01, 0.001, 0.0001],\n",
              "                                        'kernel': ['rbf', 'poly', 'sigmoid',\n",
              "                                                   'linear']},\n",
              "                   random_state=1234, scoring='accuracy')"
            ]
          },
          "metadata": {},
          "execution_count": 58
        }
      ],
      "source": [
        "param_grid = {'C': [0.001, 0.01, 0.1, 1, 10, 100, 1000], 'gamma': [1, 0.1, 0.01, 0.001, 0.0001],'kernel': ['rbf', 'poly', 'sigmoid','linear']}\n",
        "grid_SVM = RandomizedSearchCV(SVC(probability = True, random_state = 1234),param_grid,cv=5, scoring = 'accuracy',random_state = 1234)\n",
        "grid_SVM.fit(X_train[feat_names_SVM],y_train2)"
      ]
    },
    {
      "cell_type": "code",
      "execution_count": null,
      "metadata": {
        "colab": {
          "base_uri": "https://localhost:8080/"
        },
        "id": "nTXOThjF3eRS",
        "outputId": "daabc26d-3f61-433e-accf-b6812772196f"
      },
      "outputs": [
        {
          "output_type": "stream",
          "name": "stdout",
          "text": [
            "{'kernel': 'linear', 'gamma': 0.01, 'C': 10}\n"
          ]
        }
      ],
      "source": [
        "print(grid_SVM.best_params_)"
      ]
    },
    {
      "cell_type": "code",
      "execution_count": null,
      "metadata": {
        "colab": {
          "base_uri": "https://localhost:8080/"
        },
        "id": "JkKUEO6m3eKQ",
        "outputId": "a407708b-c520-48e5-d181-125d4575771d"
      },
      "outputs": [
        {
          "output_type": "stream",
          "name": "stdout",
          "text": [
            "[[263  21]\n",
            " [ 16 203]]\n",
            "              precision    recall  f1-score   support\n",
            "\n",
            "           0       0.94      0.93      0.93       284\n",
            "           1       0.91      0.93      0.92       219\n",
            "\n",
            "    accuracy                           0.93       503\n",
            "   macro avg       0.92      0.93      0.93       503\n",
            "weighted avg       0.93      0.93      0.93       503\n",
            "\n"
          ]
        }
      ],
      "source": [
        "grid_predictions_SVM = grid_SVM.predict(X_test[feat_names_SVM])\n",
        "print(confusion_matrix(y_test2,grid_predictions_SVM))\n",
        "print(classification_report(y_test2,grid_predictions_SVM))"
      ]
    },
    {
      "cell_type": "markdown",
      "metadata": {
        "id": "b-YnWvneH9a6"
      },
      "source": [
        "## KNN Classifier"
      ]
    },
    {
      "cell_type": "markdown",
      "metadata": {
        "id": "xwWmu6kr3npz"
      },
      "source": [
        "### Feature selection"
      ]
    },
    {
      "cell_type": "code",
      "execution_count": null,
      "metadata": {
        "colab": {
          "base_uri": "https://localhost:8080/",
          "height": 585
        },
        "id": "a3bLUtbYNvCA",
        "outputId": "bdb4cd24-e624-40eb-d91b-4e17f1c37a65"
      },
      "outputs": [
        {
          "output_type": "display_data",
          "data": {
            "text/plain": [
              "<Figure size 720x576 with 1 Axes>"
            ],
            "image/png": "[encoded data removed]"
          },
          "metadata": {}
        }
      ],
      "source": [
        "feature_count = list(range(1,11))\n",
        "score_list = []\n",
        "\n",
        "for k in feature_count:\n",
        "  knn_model = KNeighborsClassifier()\n",
        "  sfs5 = sfs(knn_model,k_features=k, forward=True, scoring='roc_auc')\n",
        "  sfs5.fit(X_train, y_train2)\n",
        "  feat_names = list(sfs5.k_feature_names_)\n",
        "  model = KNeighborsClassifier().fit(X_train[feat_names], y_train2)\n",
        "  score = model.score(X_test[feat_names], y_test2) \n",
        "  score_list.append(score)\n",
        "\n",
        "plt.figure(figsize=(10,8))\n",
        "plt.plot(feature_count, score_list, 'bx-')\n",
        "plt.xlabel('# of features')\n",
        "plt.ylabel('Score of test split')\n",
        "plt.title('# of Features vs Score of Test Split')\n",
        "plt.show()"
      ]
    },
    {
      "cell_type": "code",
      "execution_count": null,
      "metadata": {
        "colab": {
          "base_uri": "https://localhost:8080/"
        },
        "id": "f9_g9ZPrH8VE",
        "outputId": "da07879b-d2d3-4b12-d366-4961a2b6a061"
      },
      "outputs": [
        {
          "output_type": "stream",
          "name": "stdout",
          "text": [
            "['S', 'S/K', 'tau_underroot', 'tau_power2']\n"
          ]
        }
      ],
      "source": [
        "knn_model = KNeighborsClassifier()\n",
        "sfs5 = sfs(knn_model,k_features=4, forward=True, scoring='roc_auc')\n",
        "sfs5.fit(X_train, y_train2)\n",
        "feat_names_KNN = list(sfs5.k_feature_names_)\n",
        "print(feat_names_KNN)"
      ]
    },
    {
      "cell_type": "code",
      "execution_count": null,
      "metadata": {
        "id": "36tTaEsV9HvA"
      },
      "outputs": [],
      "source": [
        "feat_names_KNN = feat_names_KNN + ['r']"
      ]
    },
    {
      "cell_type": "code",
      "execution_count": null,
      "metadata": {
        "colab": {
          "base_uri": "https://localhost:8080/"
        },
        "id": "XjzJh9Qk833J",
        "outputId": "7ba30cc1-dab8-4b69-ecfd-5eebaad4ab46"
      },
      "outputs": [
        {
          "output_type": "stream",
          "name": "stdout",
          "text": [
            "[[267  17]\n",
            " [ 27 192]]\n",
            "              precision    recall  f1-score   support\n",
            "\n",
            "           0       0.91      0.94      0.92       284\n",
            "           1       0.92      0.88      0.90       219\n",
            "\n",
            "    accuracy                           0.91       503\n",
            "   macro avg       0.91      0.91      0.91       503\n",
            "weighted avg       0.91      0.91      0.91       503\n",
            "\n"
          ]
        }
      ],
      "source": [
        "knn_model = KNeighborsClassifier()\n",
        "knn_model.fit(X_train[feat_names_KNN], y_train2)\n",
        "predictions_KNN = knn_model.predict(X_test[feat_names_KNN])\n",
        "print(confusion_matrix(y_test2,predictions_KNN))\n",
        "print(classification_report(y_test2,predictions_KNN))"
      ]
    },
    {
      "cell_type": "markdown",
      "metadata": {
        "id": "yNehfWI83sik"
      },
      "source": [
        "### Hyperparameter Tuning"
      ]
    },
    {
      "cell_type": "code",
      "execution_count": null,
      "metadata": {
        "colab": {
          "base_uri": "https://localhost:8080/"
        },
        "id": "zFodbuzo3vz-",
        "outputId": "9fa8da13-9af5-4984-fae0-bbed9269c33c"
      },
      "outputs": [
        {
          "output_type": "execute_result",
          "data": {
            "text/plain": [
              "RandomizedSearchCV(cv=5, estimator=KNeighborsClassifier(),\n",
              "                   param_distributions={'leaf_size': [1, 2, 3, 4, 5, 6, 7, 8, 9,\n",
              "                                                      10],\n",
              "                                        'n_neighbors': [1, 2, 3, 4, 5, 6, 7, 8,\n",
              "                                                        9, 10, 11, 12, 13, 14,\n",
              "                                                        15, 16, 17, 18, 19,\n",
              "                                                        20],\n",
              "                                        'p': [1, 2]},\n",
              "                   random_state=1234, scoring='roc_auc')"
            ]
          },
          "metadata": {},
          "execution_count": 65
        }
      ],
      "source": [
        "leaf_size = list(range(1,11))\n",
        "n_neighbors = list(range(1,21))\n",
        "p=[1,2]\n",
        "hyperparameters = dict(leaf_size=leaf_size, n_neighbors=n_neighbors, p=p)\n",
        "\n",
        "grid_KNN = RandomizedSearchCV(KNeighborsClassifier(),hyperparameters,cv=5, scoring = 'roc_auc',random_state = 1234)\n",
        "grid_KNN.fit(X_train[feat_names_KNN],y_train2)"
      ]
    },
    {
      "cell_type": "code",
      "execution_count": null,
      "metadata": {
        "colab": {
          "base_uri": "https://localhost:8080/"
        },
        "id": "_qONq1Kp3vwi",
        "outputId": "248538e1-6e2e-40b7-a0e5-467340cffec1"
      },
      "outputs": [
        {
          "output_type": "stream",
          "name": "stdout",
          "text": [
            "{'p': 2, 'n_neighbors': 11, 'leaf_size': 5}\n"
          ]
        }
      ],
      "source": [
        "print(grid_KNN.best_params_)"
      ]
    },
    {
      "cell_type": "code",
      "execution_count": null,
      "metadata": {
        "colab": {
          "base_uri": "https://localhost:8080/"
        },
        "id": "Nvv5Sh9k3vtL",
        "outputId": "cf7fe94b-8b2a-47e6-cdf5-a58839ea389f"
      },
      "outputs": [
        {
          "output_type": "stream",
          "name": "stdout",
          "text": [
            "[[264  20]\n",
            " [ 24 195]]\n",
            "              precision    recall  f1-score   support\n",
            "\n",
            "           0       0.92      0.93      0.92       284\n",
            "           1       0.91      0.89      0.90       219\n",
            "\n",
            "    accuracy                           0.91       503\n",
            "   macro avg       0.91      0.91      0.91       503\n",
            "weighted avg       0.91      0.91      0.91       503\n",
            "\n"
          ]
        }
      ],
      "source": [
        "grid_predictions_KNN = grid_KNN.predict(X_test[feat_names_KNN])\n",
        "print(confusion_matrix(y_test2,grid_predictions_KNN))\n",
        "print(classification_report(y_test2,grid_predictions_KNN))"
      ]
    },
    {
      "cell_type": "markdown",
      "metadata": {
        "id": "xzB_WaKZIOpF"
      },
      "source": [
        "## Random Forest"
      ]
    },
    {
      "cell_type": "markdown",
      "metadata": {
        "id": "fQ_wdwy430v0"
      },
      "source": [
        "### Feature selection"
      ]
    },
    {
      "cell_type": "code",
      "execution_count": null,
      "metadata": {
        "colab": {
          "base_uri": "https://localhost:8080/",
          "height": 585
        },
        "id": "lu2d6u0tTeGL",
        "outputId": "2fc9b283-2cde-4667-8478-df1f20fb70b3"
      },
      "outputs": [
        {
          "data": {
            "image/png": "[encoded data removed]",
            "text/plain": [
              "<Figure size 720x576 with 1 Axes>"
            ]
          },
          "metadata": {},
          "output_type": "display_data"
        }
      ],
      "source": [
        "feature_count = list(range(1,11))\n",
        "score_list = []\n",
        "\n",
        "for k in feature_count:\n",
        "  rf = RandomForestClassifier(n_jobs=-1, random_state=1234)\n",
        "  sfs6 = sfs(rf,k_features=k, forward=True, scoring='roc_auc')\n",
        "  sfs6.fit(X_train, y_train2)\n",
        "  feat_names = list(sfs6.k_feature_names_)\n",
        "  model = RandomForestClassifier(n_jobs=-1, random_state=1234).fit(X_train[feat_names], y_train2)\n",
        "  score = model.score(X_test[feat_names], y_test2) \n",
        "  score_list.append(score)\n",
        "\n",
        "plt.figure(figsize=(10,8))\n",
        "plt.plot(feature_count, score_list, 'bx-')\n",
        "plt.xlabel('# of features')\n",
        "plt.ylabel('Score of test split')\n",
        "plt.title('# of Features vs Score of Test Split')\n",
        "plt.show()"
      ]
    },
    {
      "cell_type": "code",
      "execution_count": null,
      "metadata": {
        "colab": {
          "base_uri": "https://localhost:8080/"
        },
        "id": "noRQ7yK3Td_8",
        "outputId": "77e9ef3c-f3b8-4930-9d20-f5d6513d07e1"
      },
      "outputs": [
        {
          "output_type": "stream",
          "name": "stdout",
          "text": [
            "['S', 'r', 'S/K', 'tau_underroot']\n"
          ]
        }
      ],
      "source": [
        "rf = RandomForestClassifier(n_jobs=-1, random_state=1234)\n",
        "sfs6 = sfs(rf,k_features=4, forward=True, scoring='roc_auc')\n",
        "sfs6.fit(X_train, y_train2)\n",
        "feat_names_RF = list(sfs6.k_feature_names_)\n",
        "print(feat_names_RF)"
      ]
    },
    {
      "cell_type": "code",
      "execution_count": null,
      "metadata": {
        "id": "oE9G07PmN_l6"
      },
      "outputs": [],
      "source": [
        "# rf = RandomForestClassifier(n_jobs=-1, random_state=1234)\n",
        "# rf.fit(X_train,y_train2)\n",
        "# I = importances(rf, X_test, y_test2, random_state = 1234)\n",
        "# plot_importances(I)\n",
        "# feat_names_RF = list(I[I.Importance > 0].index)\n",
        "# feat_names_RF"
      ]
    },
    {
      "cell_type": "code",
      "execution_count": null,
      "metadata": {
        "colab": {
          "base_uri": "https://localhost:8080/"
        },
        "id": "MQ_AsCwbLH1c",
        "outputId": "39e0f0b0-68cd-46a2-8720-769ca56d54cf"
      },
      "outputs": [
        {
          "output_type": "stream",
          "name": "stdout",
          "text": [
            "[[265  19]\n",
            " [ 15 204]]\n",
            "              precision    recall  f1-score   support\n",
            "\n",
            "           0       0.95      0.93      0.94       284\n",
            "           1       0.91      0.93      0.92       219\n",
            "\n",
            "    accuracy                           0.93       503\n",
            "   macro avg       0.93      0.93      0.93       503\n",
            "weighted avg       0.93      0.93      0.93       503\n",
            "\n"
          ]
        }
      ],
      "source": [
        "rf = RandomForestClassifier(n_jobs=-1, random_state=1234)\n",
        "rf.fit(X_train[feat_names_RF], y_train2)\n",
        "predictions_RFC = rf.predict(X_test[feat_names_RF])\n",
        "print(confusion_matrix(y_test2,predictions_RFC))\n",
        "print(classification_report(y_test2,predictions_RFC))"
      ]
    },
    {
      "cell_type": "markdown",
      "metadata": {
        "id": "pMWEuB0237wQ"
      },
      "source": [
        "### Hyperparameter tuning"
      ]
    },
    {
      "cell_type": "code",
      "execution_count": null,
      "metadata": {
        "colab": {
          "base_uri": "https://localhost:8080/"
        },
        "id": "rqc6JJLYIUTl",
        "outputId": "57c0f5e3-b05b-4e75-8236-2422357f3252"
      },
      "outputs": [
        {
          "output_type": "execute_result",
          "data": {
            "text/plain": [
              "RandomizedSearchCV(cv=5, estimator=RandomForestClassifier(random_state=1234),\n",
              "                   param_distributions={'bootstrap': [True, False],\n",
              "                                        'max_depth': [1, 2, 3, 4, 5, 6, 7, 8, 9,\n",
              "                                                      10, None],\n",
              "                                        'min_samples_leaf': [1, 2, 3, 4],\n",
              "                                        'min_samples_split': [2, 3, 4, 5],\n",
              "                                        'n_estimators': [100, 105, 110, 115,\n",
              "                                                         121, 126, 131, 136,\n",
              "                                                         142, 147, 152, 157,\n",
              "                                                         163, 168, 173, 178,\n",
              "                                                         184, 189, 194, 200]},\n",
              "                   random_state=1234, scoring='accuracy')"
            ]
          },
          "metadata": {},
          "execution_count": 70
        }
      ],
      "source": [
        "n_estimators = [int(x) for x in np.linspace(start = 100, stop = 200, num = 20)]\n",
        "# max_features = ['auto', 'sqrt']\n",
        "max_depth = [int(x) for x in np.linspace(1, 10, num = 10)]\n",
        "max_depth.append(None)\n",
        "min_samples_split = [2, 3, 4, 5]\n",
        "min_samples_leaf = [1, 2, 3, 4]\n",
        "bootstrap = [True, False]\n",
        "\n",
        "random_grid = {'n_estimators': n_estimators,\n",
        "              #  'max_features': max_features,\n",
        "               'max_depth': max_depth,\n",
        "               'min_samples_split': min_samples_split,\n",
        "               'min_samples_leaf': min_samples_leaf,\n",
        "               'bootstrap': bootstrap}\n",
        "\n",
        "grid_RF = RandomizedSearchCV(RandomForestClassifier(random_state = 1234),random_grid,cv=5, scoring = 'accuracy',random_state = 1234)\n",
        "grid_RF.fit(X_train[feat_names_RF],y_train2)\n"
      ]
    },
    {
      "cell_type": "code",
      "execution_count": null,
      "metadata": {
        "colab": {
          "base_uri": "https://localhost:8080/"
        },
        "id": "p0SsPYZ2JIPR",
        "outputId": "dc57e339-a4b1-40bc-9ed8-108f8c815b9e"
      },
      "outputs": [
        {
          "output_type": "stream",
          "name": "stdout",
          "text": [
            "{'n_estimators': 115, 'min_samples_split': 5, 'min_samples_leaf': 4, 'max_depth': 9, 'bootstrap': True}\n"
          ]
        }
      ],
      "source": [
        "print(grid_RF.best_params_)"
      ]
    },
    {
      "cell_type": "code",
      "execution_count": null,
      "metadata": {
        "colab": {
          "base_uri": "https://localhost:8080/"
        },
        "id": "vFY_CFXjJIL6",
        "outputId": "9ee1223b-a51b-41ee-ec38-2dd541753523"
      },
      "outputs": [
        {
          "output_type": "stream",
          "name": "stdout",
          "text": [
            "[[266  18]\n",
            " [ 13 206]]\n",
            "              precision    recall  f1-score   support\n",
            "\n",
            "           0       0.95      0.94      0.94       284\n",
            "           1       0.92      0.94      0.93       219\n",
            "\n",
            "    accuracy                           0.94       503\n",
            "   macro avg       0.94      0.94      0.94       503\n",
            "weighted avg       0.94      0.94      0.94       503\n",
            "\n"
          ]
        }
      ],
      "source": [
        "grid_predictions_RF = grid_RF.predict(X_test[feat_names_RF])\n",
        "print(confusion_matrix(y_test2,grid_predictions_RF))\n",
        "print(classification_report(y_test2,grid_predictions_RF))"
      ]
    },
    {
      "cell_type": "markdown",
      "metadata": {
        "id": "7syfkbRkt53l"
      },
      "source": [
        "## Naive Bayes"
      ]
    },
    {
      "cell_type": "markdown",
      "metadata": {
        "id": "xGPf0_AY33Fn"
      },
      "source": [
        "### Feature selection"
      ]
    },
    {
      "cell_type": "code",
      "execution_count": null,
      "metadata": {
        "colab": {
          "base_uri": "https://localhost:8080/",
          "height": 585
        },
        "id": "mJ1bLDwQt4Hn",
        "outputId": "a5f97300-21b1-4657-d52a-161c9b464c41"
      },
      "outputs": [
        {
          "output_type": "display_data",
          "data": {
            "text/plain": [
              "<Figure size 720x576 with 1 Axes>"
            ],
            "image/png": "[encoded data removed]"
          },
          "metadata": {}
        }
      ],
      "source": [
        "feature_count = list(range(1,11))\n",
        "score_list = []\n",
        "\n",
        "for k in feature_count:\n",
        "  nb_model = GaussianNB()\n",
        "  sfs7 = sfs(nb_model,k_features=k, forward=True, scoring='roc_auc')\n",
        "  sfs7.fit(X_train, y_train2)\n",
        "  feat_names = list(sfs7.k_feature_names_)\n",
        "  model = GaussianNB().fit(X_train[feat_names], y_train2)\n",
        "  score = model.score(X_test[feat_names], y_test2) \n",
        "  score_list.append(score)\n",
        "\n",
        "plt.figure(figsize=(10,8))\n",
        "plt.plot(feature_count, score_list, 'bx-')\n",
        "plt.xlabel('# of features')\n",
        "plt.ylabel('Score of test split')\n",
        "plt.title('# of Features vs Score of Test Split')\n",
        "plt.show()"
      ]
    },
    {
      "cell_type": "code",
      "execution_count": null,
      "metadata": {
        "colab": {
          "base_uri": "https://localhost:8080/"
        },
        "id": "fBcXNN6Lt4Dd",
        "outputId": "b9afdfd7-9b0d-40d7-97fc-7985580a1ef6"
      },
      "outputs": [
        {
          "output_type": "stream",
          "name": "stdout",
          "text": [
            "['S', 'r', 'S/K', 'S-K_abs', 'tau_power4']\n"
          ]
        }
      ],
      "source": [
        "nb_model = GaussianNB()\n",
        "sfs7 = sfs(nb_model,k_features=5, forward=True, scoring='roc_auc')\n",
        "sfs7.fit(X_train, y_train2)\n",
        "\n",
        "feat_names_nb = list(sfs7.k_feature_names_)\n",
        "print(feat_names_nb)"
      ]
    },
    {
      "cell_type": "code",
      "execution_count": null,
      "metadata": {
        "colab": {
          "base_uri": "https://localhost:8080/"
        },
        "id": "vH6v77Cnt3Rb",
        "outputId": "f5bcbf77-3c40-4c98-e098-95925bccdf7b"
      },
      "outputs": [
        {
          "output_type": "stream",
          "name": "stdout",
          "text": [
            "[[259  25]\n",
            " [ 17 202]]\n",
            "              precision    recall  f1-score   support\n",
            "\n",
            "           0       0.94      0.91      0.92       284\n",
            "           1       0.89      0.92      0.91       219\n",
            "\n",
            "    accuracy                           0.92       503\n",
            "   macro avg       0.91      0.92      0.92       503\n",
            "weighted avg       0.92      0.92      0.92       503\n",
            "\n"
          ]
        }
      ],
      "source": [
        "nb_model = GaussianNB()\n",
        "nb_model.fit(X_train[feat_names_nb], y_train2)\n",
        "predictions_NB = nb_model.predict(X_test[feat_names_nb])\n",
        "print(confusion_matrix(y_test2,predictions_NB))\n",
        "print(classification_report(y_test2,predictions_NB))"
      ]
    },
    {
      "cell_type": "markdown",
      "metadata": {
        "id": "jYfNtXAsIye6"
      },
      "source": [
        "## Model Selection"
      ]
    },
    {
      "cell_type": "code",
      "execution_count": null,
      "metadata": {
        "id": "-QuPP__6I7-6"
      },
      "outputs": [],
      "source": [
        "classifiers_name = ['Logistic_reg', 'grid_SVM', 'grid_KNN', 'grid_RF','Naive_Bayes']\n",
        "classifiers = [Logistic_reg, grid_SVM, grid_KNN, grid_RF, nb_model]\n",
        "feature_list = [feat_names_LogR, feat_names_SVM, feat_names_KNN, feat_names_RF, feat_names_nb]\n",
        "result_table = pd.DataFrame(columns=['model','classifiers', 'score', 'fpr' , 'tpr', 'auc'])\n",
        "\n",
        "y_pred = pd.DataFrame(index = y_test2.index, columns = ['Logistic_reg', 'grid_SVM', 'grid_KNN', 'grid_RF','Naive_Bayes','final_prediction'])\n",
        "threshold = []\n",
        "for model_name, cls, feature in zip(classifiers_name,classifiers, feature_list):\n",
        "  \n",
        "  model = cls.fit(X_train[feature], y_train2)\n",
        "  score = cls.score(X_test[feature], y_test2)\n",
        "    \n",
        "  model_prob = cls.predict_proba(X_test[feature])\n",
        "  model_prob_ = model_prob[:,1]\n",
        "\n",
        "  fpr,tpr, thresholds = roc_curve(y_test2, model_prob_)\n",
        "  area = metrics.roc_auc_score(y_test2, model_prob_)\n",
        "\n",
        "  preds = np.where(model_prob_ > 0.5, 1, 0)\n",
        "\n",
        "  result_table = result_table.append({'model':model_name,\n",
        "                                      'classifiers':cls.__class__.__name__,\n",
        "                                      'score':score,\n",
        "                                      'fpr':fpr, \n",
        "                                      'tpr':tpr, \n",
        "                                      'auc':area}, ignore_index=True)\n",
        "\n",
        "  y_pred[model_name] = preds\n",
        "    \n",
        "# Set name of the classifiers as index labels\n",
        "result_table.set_index('model', inplace=True)"
      ]
    },
    {
      "cell_type": "code",
      "execution_count": null,
      "metadata": {
        "colab": {
          "base_uri": "https://localhost:8080/",
          "height": 237
        },
        "id": "VhSnreg8zDy8",
        "outputId": "004ea48c-712d-4518-c297-a4494b8ab3c6"
      },
      "outputs": [
        {
          "output_type": "execute_result",
          "data": {
            "text/plain": [
              "                     classifiers     score  \\\n",
              "model                                        \n",
              "Logistic_reg  LogisticRegression  0.922465   \n",
              "grid_SVM      RandomizedSearchCV  0.926441   \n",
              "grid_KNN      RandomizedSearchCV  0.975288   \n",
              "grid_RF       RandomizedSearchCV  0.938370   \n",
              "Naive_Bayes           GaussianNB  0.916501   \n",
              "\n",
              "                                                            fpr  \\\n",
              "model                                                             \n",
              "Logistic_reg  [0.0, 0.0035211267605633804, 0.007042253521126...   \n",
              "grid_SVM      [0.0, 0.0035211267605633804, 0.007042253521126...   \n",
              "grid_KNN      [0.0, 0.007042253521126761, 0.0070422535211267...   \n",
              "grid_RF       [0.0, 0.0, 0.0, 0.0, 0.0, 0.0, 0.0, 0.0, 0.0, ...   \n",
              "Naive_Bayes   [0.0, 0.0, 0.0, 0.007042253521126761, 0.007042...   \n",
              "\n",
              "                                                            tpr       auc  \n",
              "model                                                                      \n",
              "Logistic_reg  [0.0, 0.0, 0.0, 0.3013698630136986, 0.30136986...  0.974066  \n",
              "grid_SVM      [0.0, 0.0, 0.0, 0.2831050228310502, 0.28310502...  0.974532  \n",
              "grid_KNN      [0.0, 0.5296803652968036, 0.6529680365296804, ...  0.975288  \n",
              "grid_RF       [0.0, 0.0045662100456621, 0.0410958904109589, ...  0.976719  \n",
              "Naive_Bayes   [0.0, 0.0045662100456621, 0.0091324200913242, ...  0.971751  "
            ],
            "text/html": [
              "\n",
              "  <div id=\"df-636abfa9-7599-4556-8f5b-f003a4338a97\">\n",
              "    <div class=\"colab-df-container\">\n",
              "      <div>\n",
              "<style scoped>\n",
              "    .dataframe tbody tr th:only-of-type {\n",
              "        vertical-align: middle;\n",
              "    }\n",
              "\n",
              "    .dataframe tbody tr th {\n",
              "        vertical-align: top;\n",
              "    }\n",
              "\n",
              "    .dataframe thead th {\n",
              "        text-align: right;\n",
              "    }\n",
              "</style>\n",
              "<table border=\"1\" class=\"dataframe\">\n",
              "  <thead>\n",
              "    <tr style=\"text-align: right;\">\n",
              "      <th></th>\n",
              "      <th>classifiers</th>\n",
              "      <th>score</th>\n",
              "      <th>fpr</th>\n",
              "      <th>tpr</th>\n",
              "      <th>auc</th>\n",
              "    </tr>\n",
              "    <tr>\n",
              "      <th>model</th>\n",
              "      <th></th>\n",
              "      <th></th>\n",
              "      <th></th>\n",
              "      <th></th>\n",
              "      <th></th>\n",
              "    </tr>\n",
              "  </thead>\n",
              "  <tbody>\n",
              "    <tr>\n",
              "      <th>Logistic_reg</th>\n",
              "      <td>LogisticRegression</td>\n",
              "      <td>0.922465</td>\n",
              "      <td>[0.0, 0.0035211267605633804, 0.007042253521126...</td>\n",
              "      <td>[0.0, 0.0, 0.0, 0.3013698630136986, 0.30136986...</td>\n",
              "      <td>0.974066</td>\n",
              "    </tr>\n",
              "    <tr>\n",
              "      <th>grid_SVM</th>\n",
              "      <td>RandomizedSearchCV</td>\n",
              "      <td>0.926441</td>\n",
              "      <td>[0.0, 0.0035211267605633804, 0.007042253521126...</td>\n",
              "      <td>[0.0, 0.0, 0.0, 0.2831050228310502, 0.28310502...</td>\n",
              "      <td>0.974532</td>\n",
              "    </tr>\n",
              "    <tr>\n",
              "      <th>grid_KNN</th>\n",
              "      <td>RandomizedSearchCV</td>\n",
              "      <td>0.975288</td>\n",
              "      <td>[0.0, 0.007042253521126761, 0.0070422535211267...</td>\n",
              "      <td>[0.0, 0.5296803652968036, 0.6529680365296804, ...</td>\n",
              "      <td>0.975288</td>\n",
              "    </tr>\n",
              "    <tr>\n",
              "      <th>grid_RF</th>\n",
              "      <td>RandomizedSearchCV</td>\n",
              "      <td>0.938370</td>\n",
              "      <td>[0.0, 0.0, 0.0, 0.0, 0.0, 0.0, 0.0, 0.0, 0.0, ...</td>\n",
              "      <td>[0.0, 0.0045662100456621, 0.0410958904109589, ...</td>\n",
              "      <td>0.976719</td>\n",
              "    </tr>\n",
              "    <tr>\n",
              "      <th>Naive_Bayes</th>\n",
              "      <td>GaussianNB</td>\n",
              "      <td>0.916501</td>\n",
              "      <td>[0.0, 0.0, 0.0, 0.007042253521126761, 0.007042...</td>\n",
              "      <td>[0.0, 0.0045662100456621, 0.0091324200913242, ...</td>\n",
              "      <td>0.971751</td>\n",
              "    </tr>\n",
              "  </tbody>\n",
              "</table>\n",
              "</div>\n",
              "      <button class=\"colab-df-convert\" onclick=\"convertToInteractive('df-636abfa9-7599-4556-8f5b-f003a4338a97')\"\n",
              "              title=\"Convert this dataframe to an interactive table.\"\n",
              "              style=\"display:none;\">\n",
              "        \n",
              "  <svg xmlns=\"http://www.w3.org/2000/svg\" height=\"24px\"viewBox=\"0 0 24 24\"\n",
              "       width=\"24px\">\n",
              "    <path d=\"M0 0h24v24H0V0z\" fill=\"none\"/>\n",
              "    <path d=\"M18.56 5.44l.94 2.06.94-2.06 2.06-.94-2.06-.94-.94-2.06-.94 2.06-2.06.94zm-11 1L8.5 8.5l.94-2.06 2.06-.94-2.06-.94L8.5 2.5l-.94 2.06-2.06.94zm10 10l.94 2.06.94-2.06 2.06-.94-2.06-.94-.94-2.06-.94 2.06-2.06.94z\"/><path d=\"M17.41 7.96l-1.37-1.37c-.4-.4-.92-.59-1.43-.59-.52 0-1.04.2-1.43.59L10.3 9.45l-7.72 7.72c-.78.78-.78 2.05 0 2.83L4 21.41c.39.39.9.59 1.41.59.51 0 1.02-.2 1.41-.59l7.78-7.78 2.81-2.81c.8-.78.8-2.07 0-2.86zM5.41 20L4 18.59l7.72-7.72 1.47 1.35L5.41 20z\"/>\n",
              "  </svg>\n",
              "      </button>\n",
              "      \n",
              "  <style>\n",
              "    .colab-df-container {\n",
              "      display:flex;\n",
              "      flex-wrap:wrap;\n",
              "      gap: 12px;\n",
              "    }\n",
              "\n",
              "    .colab-df-convert {\n",
              "      background-color: #E8F0FE;\n",
              "      border: none;\n",
              "      border-radius: 50%;\n",
              "      cursor: pointer;\n",
              "      display: none;\n",
              "      fill: #1967D2;\n",
              "      height: 32px;\n",
              "      padding: 0 0 0 0;\n",
              "      width: 32px;\n",
              "    }\n",
              "\n",
              "    .colab-df-convert:hover {\n",
              "      background-color: #E2EBFA;\n",
              "      box-shadow: 0px 1px 2px rgba(60, 64, 67, 0.3), 0px 1px 3px 1px rgba(60, 64, 67, 0.15);\n",
              "      fill: #174EA6;\n",
              "    }\n",
              "\n",
              "    [theme=dark] .colab-df-convert {\n",
              "      background-color: #3B4455;\n",
              "      fill: #D2E3FC;\n",
              "    }\n",
              "\n",
              "    [theme=dark] .colab-df-convert:hover {\n",
              "      background-color: #434B5C;\n",
              "      box-shadow: 0px 1px 3px 1px rgba(0, 0, 0, 0.15);\n",
              "      filter: drop-shadow(0px 1px 2px rgba(0, 0, 0, 0.3));\n",
              "      fill: #FFFFFF;\n",
              "    }\n",
              "  </style>\n",
              "\n",
              "      <script>\n",
              "        const buttonEl =\n",
              "          document.querySelector('#df-636abfa9-7599-4556-8f5b-f003a4338a97 button.colab-df-convert');\n",
              "        buttonEl.style.display =\n",
              "          google.colab.kernel.accessAllowed ? 'block' : 'none';\n",
              "\n",
              "        async function convertToInteractive(key) {\n",
              "          const element = document.querySelector('#df-636abfa9-7599-4556-8f5b-f003a4338a97');\n",
              "          const dataTable =\n",
              "            await google.colab.kernel.invokeFunction('convertToInteractive',\n",
              "                                                     [key], {});\n",
              "          if (!dataTable) return;\n",
              "\n",
              "          const docLinkHtml = 'Like what you see? Visit the ' +\n",
              "            '<a target=\"_blank\" href=https://colab.research.google.com/notebooks/data_table.ipynb>data table notebook</a>'\n",
              "            + ' to learn more about interactive tables.';\n",
              "          element.innerHTML = '';\n",
              "          dataTable['output_type'] = 'display_data';\n",
              "          await google.colab.output.renderOutput(dataTable, element);\n",
              "          const docLink = document.createElement('div');\n",
              "          docLink.innerHTML = docLinkHtml;\n",
              "          element.appendChild(docLink);\n",
              "        }\n",
              "      </script>\n",
              "    </div>\n",
              "  </div>\n",
              "  "
            ]
          },
          "metadata": {},
          "execution_count": 77
        }
      ],
      "source": [
        "result_table"
      ]
    },
    {
      "cell_type": "code",
      "execution_count": null,
      "metadata": {
        "colab": {
          "base_uri": "https://localhost:8080/",
          "height": 441
        },
        "id": "_tcQ6pyPJPyI",
        "outputId": "275695ba-9c09-4991-f242-a8b82dea2597"
      },
      "outputs": [
        {
          "output_type": "display_data",
          "data": {
            "text/plain": [
              "<Figure size 576x432 with 1 Axes>"
            ],
            "image/png": "[encoded data removed]"
          },
          "metadata": {}
        }
      ],
      "source": [
        "fig = plt.figure(figsize=(8,6))\n",
        "\n",
        "for i in result_table.index:\n",
        "    plt.plot(result_table.loc[i]['fpr'], \n",
        "             result_table.loc[i]['tpr'], \n",
        "             label=\"{}, AUC={:.3f}\".format(i, result_table.loc[i]['auc']))\n",
        "    \n",
        "plt.plot([0,1], [0,1], color='orange', linestyle='--')\n",
        "\n",
        "plt.xticks(np.arange(0.0, 1.1, step=0.1))\n",
        "plt.xlabel(\"False Positive Rate\", fontsize=15)\n",
        "\n",
        "plt.yticks(np.arange(0.0, 1.1, step=0.1))\n",
        "plt.ylabel(\"True Positive Rate\", fontsize=15)\n",
        "\n",
        "plt.title('ROC Curve Analysis', fontweight='bold', fontsize=15)\n",
        "plt.legend(prop={'size':13}, loc='lower right')\n",
        "\n",
        "plt.show()"
      ]
    },
    {
      "cell_type": "code",
      "execution_count": null,
      "metadata": {
        "colab": {
          "base_uri": "https://localhost:8080/",
          "height": 423
        },
        "id": "lhavcEgtpv3I",
        "outputId": "f893ffc7-a153-42be-9ca3-fe9438262ba4"
      },
      "outputs": [
        {
          "output_type": "execute_result",
          "data": {
            "text/plain": [
              "      Logistic_reg  grid_SVM  grid_KNN  grid_RF  Naive_Bayes  final_prediction\n",
              "1113             1         1         1        1            1                 1\n",
              "566              1         1         1        1            1                 1\n",
              "16               1         1         1        1            1                 1\n",
              "669              1         1         1        1            1                 1\n",
              "39               0         0         0        0            0                 0\n",
              "...            ...       ...       ...      ...          ...               ...\n",
              "943              0         0         0        0            1                 0\n",
              "1473             0         0         0        0            0                 0\n",
              "167              1         1         0        1            1                 1\n",
              "1253             1         1         0        1            1                 1\n",
              "359              0         0         0        0            0                 0\n",
              "\n",
              "[503 rows x 6 columns]"
            ],
            "text/html": [
              "\n",
              "  <div id=\"df-c0ace6ae-b57d-44ac-a4b9-a8592321b4f8\">\n",
              "    <div class=\"colab-df-container\">\n",
              "      <div>\n",
              "<style scoped>\n",
              "    .dataframe tbody tr th:only-of-type {\n",
              "        vertical-align: middle;\n",
              "    }\n",
              "\n",
              "    .dataframe tbody tr th {\n",
              "        vertical-align: top;\n",
              "    }\n",
              "\n",
              "    .dataframe thead th {\n",
              "        text-align: right;\n",
              "    }\n",
              "</style>\n",
              "<table border=\"1\" class=\"dataframe\">\n",
              "  <thead>\n",
              "    <tr style=\"text-align: right;\">\n",
              "      <th></th>\n",
              "      <th>Logistic_reg</th>\n",
              "      <th>grid_SVM</th>\n",
              "      <th>grid_KNN</th>\n",
              "      <th>grid_RF</th>\n",
              "      <th>Naive_Bayes</th>\n",
              "      <th>final_prediction</th>\n",
              "    </tr>\n",
              "  </thead>\n",
              "  <tbody>\n",
              "    <tr>\n",
              "      <th>1113</th>\n",
              "      <td>1</td>\n",
              "      <td>1</td>\n",
              "      <td>1</td>\n",
              "      <td>1</td>\n",
              "      <td>1</td>\n",
              "      <td>1</td>\n",
              "    </tr>\n",
              "    <tr>\n",
              "      <th>566</th>\n",
              "      <td>1</td>\n",
              "      <td>1</td>\n",
              "      <td>1</td>\n",
              "      <td>1</td>\n",
              "      <td>1</td>\n",
              "      <td>1</td>\n",
              "    </tr>\n",
              "    <tr>\n",
              "      <th>16</th>\n",
              "      <td>1</td>\n",
              "      <td>1</td>\n",
              "      <td>1</td>\n",
              "      <td>1</td>\n",
              "      <td>1</td>\n",
              "      <td>1</td>\n",
              "    </tr>\n",
              "    <tr>\n",
              "      <th>669</th>\n",
              "      <td>1</td>\n",
              "      <td>1</td>\n",
              "      <td>1</td>\n",
              "      <td>1</td>\n",
              "      <td>1</td>\n",
              "      <td>1</td>\n",
              "    </tr>\n",
              "    <tr>\n",
              "      <th>39</th>\n",
              "      <td>0</td>\n",
              "      <td>0</td>\n",
              "      <td>0</td>\n",
              "      <td>0</td>\n",
              "      <td>0</td>\n",
              "      <td>0</td>\n",
              "    </tr>\n",
              "    <tr>\n",
              "      <th>...</th>\n",
              "      <td>...</td>\n",
              "      <td>...</td>\n",
              "      <td>...</td>\n",
              "      <td>...</td>\n",
              "      <td>...</td>\n",
              "      <td>...</td>\n",
              "    </tr>\n",
              "    <tr>\n",
              "      <th>943</th>\n",
              "      <td>0</td>\n",
              "      <td>0</td>\n",
              "      <td>0</td>\n",
              "      <td>0</td>\n",
              "      <td>1</td>\n",
              "      <td>0</td>\n",
              "    </tr>\n",
              "    <tr>\n",
              "      <th>1473</th>\n",
              "      <td>0</td>\n",
              "      <td>0</td>\n",
              "      <td>0</td>\n",
              "      <td>0</td>\n",
              "      <td>0</td>\n",
              "      <td>0</td>\n",
              "    </tr>\n",
              "    <tr>\n",
              "      <th>167</th>\n",
              "      <td>1</td>\n",
              "      <td>1</td>\n",
              "      <td>0</td>\n",
              "      <td>1</td>\n",
              "      <td>1</td>\n",
              "      <td>1</td>\n",
              "    </tr>\n",
              "    <tr>\n",
              "      <th>1253</th>\n",
              "      <td>1</td>\n",
              "      <td>1</td>\n",
              "      <td>0</td>\n",
              "      <td>1</td>\n",
              "      <td>1</td>\n",
              "      <td>1</td>\n",
              "    </tr>\n",
              "    <tr>\n",
              "      <th>359</th>\n",
              "      <td>0</td>\n",
              "      <td>0</td>\n",
              "      <td>0</td>\n",
              "      <td>0</td>\n",
              "      <td>0</td>\n",
              "      <td>0</td>\n",
              "    </tr>\n",
              "  </tbody>\n",
              "</table>\n",
              "<p>503 rows × 6 columns</p>\n",
              "</div>\n",
              "      <button class=\"colab-df-convert\" onclick=\"convertToInteractive('df-c0ace6ae-b57d-44ac-a4b9-a8592321b4f8')\"\n",
              "              title=\"Convert this dataframe to an interactive table.\"\n",
              "              style=\"display:none;\">\n",
              "        \n",
              "  <svg xmlns=\"http://www.w3.org/2000/svg\" height=\"24px\"viewBox=\"0 0 24 24\"\n",
              "       width=\"24px\">\n",
              "    <path d=\"M0 0h24v24H0V0z\" fill=\"none\"/>\n",
              "    <path d=\"M18.56 5.44l.94 2.06.94-2.06 2.06-.94-2.06-.94-.94-2.06-.94 2.06-2.06.94zm-11 1L8.5 8.5l.94-2.06 2.06-.94-2.06-.94L8.5 2.5l-.94 2.06-2.06.94zm10 10l.94 2.06.94-2.06 2.06-.94-2.06-.94-.94-2.06-.94 2.06-2.06.94z\"/><path d=\"M17.41 7.96l-1.37-1.37c-.4-.4-.92-.59-1.43-.59-.52 0-1.04.2-1.43.59L10.3 9.45l-7.72 7.72c-.78.78-.78 2.05 0 2.83L4 21.41c.39.39.9.59 1.41.59.51 0 1.02-.2 1.41-.59l7.78-7.78 2.81-2.81c.8-.78.8-2.07 0-2.86zM5.41 20L4 18.59l7.72-7.72 1.47 1.35L5.41 20z\"/>\n",
              "  </svg>\n",
              "      </button>\n",
              "      \n",
              "  <style>\n",
              "    .colab-df-container {\n",
              "      display:flex;\n",
              "      flex-wrap:wrap;\n",
              "      gap: 12px;\n",
              "    }\n",
              "\n",
              "    .colab-df-convert {\n",
              "      background-color: #E8F0FE;\n",
              "      border: none;\n",
              "      border-radius: 50%;\n",
              "      cursor: pointer;\n",
              "      display: none;\n",
              "      fill: #1967D2;\n",
              "      height: 32px;\n",
              "      padding: 0 0 0 0;\n",
              "      width: 32px;\n",
              "    }\n",
              "\n",
              "    .colab-df-convert:hover {\n",
              "      background-color: #E2EBFA;\n",
              "      box-shadow: 0px 1px 2px rgba(60, 64, 67, 0.3), 0px 1px 3px 1px rgba(60, 64, 67, 0.15);\n",
              "      fill: #174EA6;\n",
              "    }\n",
              "\n",
              "    [theme=dark] .colab-df-convert {\n",
              "      background-color: #3B4455;\n",
              "      fill: #D2E3FC;\n",
              "    }\n",
              "\n",
              "    [theme=dark] .colab-df-convert:hover {\n",
              "      background-color: #434B5C;\n",
              "      box-shadow: 0px 1px 3px 1px rgba(0, 0, 0, 0.15);\n",
              "      filter: drop-shadow(0px 1px 2px rgba(0, 0, 0, 0.3));\n",
              "      fill: #FFFFFF;\n",
              "    }\n",
              "  </style>\n",
              "\n",
              "      <script>\n",
              "        const buttonEl =\n",
              "          document.querySelector('#df-c0ace6ae-b57d-44ac-a4b9-a8592321b4f8 button.colab-df-convert');\n",
              "        buttonEl.style.display =\n",
              "          google.colab.kernel.accessAllowed ? 'block' : 'none';\n",
              "\n",
              "        async function convertToInteractive(key) {\n",
              "          const element = document.querySelector('#df-c0ace6ae-b57d-44ac-a4b9-a8592321b4f8');\n",
              "          const dataTable =\n",
              "            await google.colab.kernel.invokeFunction('convertToInteractive',\n",
              "                                                     [key], {});\n",
              "          if (!dataTable) return;\n",
              "\n",
              "          const docLinkHtml = 'Like what you see? Visit the ' +\n",
              "            '<a target=\"_blank\" href=https://colab.research.google.com/notebooks/data_table.ipynb>data table notebook</a>'\n",
              "            + ' to learn more about interactive tables.';\n",
              "          element.innerHTML = '';\n",
              "          dataTable['output_type'] = 'display_data';\n",
              "          await google.colab.output.renderOutput(dataTable, element);\n",
              "          const docLink = document.createElement('div');\n",
              "          docLink.innerHTML = docLinkHtml;\n",
              "          element.appendChild(docLink);\n",
              "        }\n",
              "      </script>\n",
              "    </div>\n",
              "  </div>\n",
              "  "
            ]
          },
          "metadata": {},
          "execution_count": 79
        }
      ],
      "source": [
        "y_pred['final_prediction'] = 0\n",
        "a = 0\n",
        "for i in y_pred.index:\n",
        "  for col in y_pred.columns:\n",
        "    a += y_pred.loc[i,col]\n",
        "  if a > 2:\n",
        "    y_pred.loc[i,'final_prediction'] = 1\n",
        "  a = 0\n",
        "\n",
        "y_pred\n"
      ]
    },
    {
      "cell_type": "code",
      "execution_count": null,
      "metadata": {
        "colab": {
          "base_uri": "https://localhost:8080/"
        },
        "id": "IKKeVljcpvzR",
        "outputId": "da619807-8dd1-4516-f8b3-108ecdb5915d"
      },
      "outputs": [
        {
          "output_type": "stream",
          "name": "stdout",
          "text": [
            "[[266  18]\n",
            " [ 17 202]]\n"
          ]
        }
      ],
      "source": [
        "print(confusion_matrix(y_test2, y_pred.final_prediction))"
      ]
    },
    {
      "cell_type": "markdown",
      "metadata": {
        "id": "w5QHXH1Ie20-"
      },
      "source": [
        "# Final Prediction (Model training on 100% + result on w/o labels)"
      ]
    },
    {
      "cell_type": "code",
      "execution_count": null,
      "metadata": {
        "id": "IKopcUMlhHj_"
      },
      "outputs": [],
      "source": [
        "data_withoutlabel = pd.read_csv('option_test_wolabel.csv')\n",
        "data2 = data_withoutlabel.copy()"
      ]
    },
    {
      "cell_type": "code",
      "execution_count": null,
      "metadata": {
        "id": "jXlojQ2ahHgF"
      },
      "outputs": [],
      "source": [
        "data2[\"S/K\"] = data2.S/data2.K #Currentassetvalue/Strikepriceofoption\n",
        "data2[\"S-K_abs\"] = abs(data2.S - data2.K) # abs(Currentassetvalue - Strikepriceofoption)\n",
        "data2[\"tau_underroot\"] = [math.sqrt(i) for i in data2.tau] #sqrt of Timetomaturity\n",
        "data2[\"tau_power2\"] = pow(data2.tau,2) # Timetomaturity in power 2\n",
        "data2[\"tau_power4\"] = pow(data2.tau,4) # Timetomaturity in power 4\n",
        "data2[\"1+r\"] = 1 + data2.r # 1 + Annualinterestrate"
      ]
    },
    {
      "cell_type": "code",
      "execution_count": null,
      "metadata": {
        "id": "l_XVvgvehHb7"
      },
      "outputs": [],
      "source": [
        "data2 = pd.DataFrame(scaler.transform(data2), columns = data2.columns)"
      ]
    },
    {
      "cell_type": "code",
      "execution_count": null,
      "metadata": {
        "id": "XM8VqkachHYD"
      },
      "outputs": [],
      "source": [
        "# training model on 100% of the data\n",
        "rf_reg_final = RandomForestRegressor(random_state=1234)\n",
        "rf_reg_final.fit(X[feat_names_rfR], y1)\n",
        "data2['Value'] = rf_reg_final.predict(data2[feat_names_rfR]) "
      ]
    },
    {
      "cell_type": "code",
      "execution_count": null,
      "metadata": {
        "id": "aG-PmhOmhHPu"
      },
      "outputs": [],
      "source": [
        "classifiers_name = ['Logistic_reg', 'grid_SVM', 'grid_KNN', 'grid_RF','Naive_Bayes']\n",
        "classifiers = [Logistic_reg, grid_SVM, grid_KNN, grid_RF, nb_model]\n",
        "feature_list = [feat_names_LogR, feat_names_SVM, feat_names_KNN, feat_names_RF, feat_names_nb]\n",
        "\n",
        "for model_name, cls, feature in zip(classifiers_name,classifiers, feature_list):\n",
        "\n",
        "  # training model on 100% of the data\n",
        "  model = cls.fit(X[feature], y2)\n",
        "  model_prob = cls.predict_proba(data2[feature])\n",
        "  model_prob_ = model_prob[:,1]\n",
        "  preds = np.where(model_prob_ > 0.5, 1, 0)\n",
        "  data2[model_name] = preds"
      ]
    },
    {
      "cell_type": "code",
      "execution_count": null,
      "metadata": {
        "id": "aK5yNo5ShHLy"
      },
      "outputs": [],
      "source": [
        "data2['BS'] = 0\n",
        "a = 0\n",
        "for i in data2.index:\n",
        "  for col in ['Logistic_reg', 'grid_SVM', 'grid_KNN', 'grid_RF','Naive_Bayes']:\n",
        "    a += data2.loc[i,col]\n",
        "  if a > 2:\n",
        "    data2.loc[i,'BS'] = 1\n",
        "  a = 0"
      ]
    },
    {
      "cell_type": "code",
      "execution_count": null,
      "metadata": {
        "id": "_ttDJpd2hHIX"
      },
      "outputs": [],
      "source": [
        "final_data = data2[['Value','BS']]"
      ]
    },
    {
      "cell_type": "code",
      "execution_count": null,
      "metadata": {
        "colab": {
          "base_uri": "https://localhost:8080/"
        },
        "id": "IvnG2TMNi03E",
        "outputId": "3cf0e435-f7b1-4099-867f-2f02a1dad91d"
      },
      "outputs": [
        {
          "output_type": "execute_result",
          "data": {
            "text/plain": [
              "count    1120.000000\n",
              "mean       14.001607\n",
              "std        13.890733\n",
              "min         0.131300\n",
              "25%         1.570751\n",
              "50%         9.160602\n",
              "75%        24.258199\n",
              "max        59.044871\n",
              "Name: Value, dtype: float64"
            ]
          },
          "metadata": {},
          "execution_count": 88
        }
      ],
      "source": [
        "final_data.Value.describe()"
      ]
    },
    {
      "cell_type": "code",
      "execution_count": null,
      "metadata": {
        "colab": {
          "base_uri": "https://localhost:8080/"
        },
        "id": "UndYEI21i0fo",
        "outputId": "8aa3d69b-d77a-4e62-f30e-5b5d93cfe6ea"
      },
      "outputs": [
        {
          "output_type": "execute_result",
          "data": {
            "text/plain": [
              "557"
            ]
          },
          "metadata": {},
          "execution_count": 89
        }
      ],
      "source": [
        "final_data.BS.sum()"
      ]
    },
    {
      "cell_type": "code",
      "execution_count": null,
      "metadata": {
        "id": "nKox7m6DhHFQ"
      },
      "outputs": [],
      "source": [
        "final_data.to_csv('group_11_prediction.csv', index= False)"
      ]
    },
    {
      "cell_type": "code",
      "source": [],
      "metadata": {
        "id": "uKD62erbYhVT"
      },
      "execution_count": null,
      "outputs": []
    }
  ],
  "metadata": {
    "accelerator": "GPU",
    "colab": {
      "collapsed_sections": [
        "Rfit8e2Fw8GM",
        "4ZLREXEd8pV6",
        "fstYoMSb-5Ol",
        "1GOUsb30_his",
        "pfcyGwibBqhJ",
        "ZCpiAQWqCcgX",
        "3B5XDegs-73G",
        "WqOIQHhXChEz",
        "7AgQCdBa-_yq",
        "fqyWyW9ma11X"
      ],
      "provenance": []
    },
    "kernelspec": {
      "display_name": "Python 3",
      "name": "python3"
    },
    "language_info": {
      "name": "python"
    }
  },
  "nbformat": 4,
  "nbformat_minor": 0
}